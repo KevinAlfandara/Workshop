{
 "cells": [
  {
   "cell_type": "markdown",
   "id": "bf777e23",
   "metadata": {},
   "source": [
    "# PyTorch Workflow & Implementing RNN with PyTorch"
   ]
  },
  {
   "cell_type": "markdown",
   "id": "906182cc",
   "metadata": {},
   "source": [
    "Pada PyTorch terdapat 4 langkah utama untuk mengerjakan sebuah kasus machine learning, yaitu:\n",
    "- Persiapan data\n",
    "- Pembuatan arsitektur\n",
    "- Persiapan training\n",
    "- Training loop\n",
    "\n",
    "Training loop ini digunakan karena arsitektur yang kita bangun merupakan proses RNN 1x feed forward dan 1x backpropagation, sehingga kita perlu membuat langkah perulangan untuk melakukan training dengan epoch yang banyak."
   ]
  },
  {
   "cell_type": "code",
   "execution_count": 171,
   "id": "0fedf04f",
   "metadata": {},
   "outputs": [],
   "source": [
    "# import library dasar\n",
    "import pandas as pd\n",
    "import numpy as np\n",
    "import matplotlib.pyplot as plt"
   ]
  },
  {
   "cell_type": "markdown",
   "id": "4d8f9892",
   "metadata": {},
   "source": [
    "### Quick Summary\n",
    "- `Pandas` adalah sebuah library Python yang digunakan untuk melakukan manipulasi dan analisis data. Library ini menyediakan struktur data yang fleksibel dan efisien untuk melakukan pemrosesan data tabular, seperti DataFrame dan Series.\n",
    "- `Numpy` adalah library Python yang digunakan untuk melakukan komputasi numerik pada array multidimensional. Library ini menyediakan struktur data yang efisien untuk menyimpan dan memanipulasi data dalam bentuk array, serta berbagai fungsi matematika untuk melakukan operasi pada array tersebut.\n",
    "- `Matplotlib` adalah library Python yang digunakan untuk membuat visualisasi data dalam bentuk grafik atau plot. Library ini menyediakan berbagai jenis plot, seperti line plot, bar plot, scatter plot, dan sebagainya. Library ini juga menyediakan banyak pilihan untuk mengatur tampilan plot, seperti warna, label, legend, dan sebagainya."
   ]
  },
  {
   "cell_type": "markdown",
   "id": "f7eb7931",
   "metadata": {},
   "source": [
    "#### Persiapan data\n",
    "\n",
    "Seperti biasa, di awal kita akan melakukan pembacaan dataset menggunakan pandas. Data yang akan digunakan adalah data tinggi muka air laut bulanan di Charleston. Data ini merupakan data pengukuran buoy dari tahun 1952 - 2012. Pada data ini terdapat informasi waktu pada kolom date dan pupulasi pada kolom value.\n",
    "\n",
    "Untuk lebih lengkap silahkan mengunjungi dataset :\n",
    "https://www.kaggle.com/datasets/census/population-time-series-data\n"
   ]
  },
  {
   "cell_type": "code",
   "execution_count": 172,
   "id": "a76f0d04",
   "metadata": {},
   "outputs": [],
   "source": [
    "monthly_slr = pd.read_csv(\"POP.csv\")"
   ]
  },
  {
   "cell_type": "code",
   "execution_count": 173,
   "id": "16677603",
   "metadata": {},
   "outputs": [
    {
     "data": {
      "text/html": [
       "<div>\n",
       "<style scoped>\n",
       "    .dataframe tbody tr th:only-of-type {\n",
       "        vertical-align: middle;\n",
       "    }\n",
       "\n",
       "    .dataframe tbody tr th {\n",
       "        vertical-align: top;\n",
       "    }\n",
       "\n",
       "    .dataframe thead th {\n",
       "        text-align: right;\n",
       "    }\n",
       "</style>\n",
       "<table border=\"1\" class=\"dataframe\">\n",
       "  <thead>\n",
       "    <tr style=\"text-align: right;\">\n",
       "      <th></th>\n",
       "      <th>realtime_start</th>\n",
       "      <th>value</th>\n",
       "      <th>date</th>\n",
       "      <th>realtime_end</th>\n",
       "    </tr>\n",
       "  </thead>\n",
       "  <tbody>\n",
       "    <tr>\n",
       "      <th>0</th>\n",
       "      <td>2019-12-06</td>\n",
       "      <td>156309.000</td>\n",
       "      <td>1952-01-01</td>\n",
       "      <td>2019-12-06</td>\n",
       "    </tr>\n",
       "    <tr>\n",
       "      <th>1</th>\n",
       "      <td>2019-12-06</td>\n",
       "      <td>156527.000</td>\n",
       "      <td>1952-02-01</td>\n",
       "      <td>2019-12-06</td>\n",
       "    </tr>\n",
       "    <tr>\n",
       "      <th>2</th>\n",
       "      <td>2019-12-06</td>\n",
       "      <td>156731.000</td>\n",
       "      <td>1952-03-01</td>\n",
       "      <td>2019-12-06</td>\n",
       "    </tr>\n",
       "    <tr>\n",
       "      <th>3</th>\n",
       "      <td>2019-12-06</td>\n",
       "      <td>156943.000</td>\n",
       "      <td>1952-04-01</td>\n",
       "      <td>2019-12-06</td>\n",
       "    </tr>\n",
       "    <tr>\n",
       "      <th>4</th>\n",
       "      <td>2019-12-06</td>\n",
       "      <td>157140.000</td>\n",
       "      <td>1952-05-01</td>\n",
       "      <td>2019-12-06</td>\n",
       "    </tr>\n",
       "    <tr>\n",
       "      <th>...</th>\n",
       "      <td>...</td>\n",
       "      <td>...</td>\n",
       "      <td>...</td>\n",
       "      <td>...</td>\n",
       "    </tr>\n",
       "    <tr>\n",
       "      <th>811</th>\n",
       "      <td>2019-12-06</td>\n",
       "      <td>329591.333</td>\n",
       "      <td>2019-08-01</td>\n",
       "      <td>2019-12-06</td>\n",
       "    </tr>\n",
       "    <tr>\n",
       "      <th>812</th>\n",
       "      <td>2019-12-06</td>\n",
       "      <td>329785.872</td>\n",
       "      <td>2019-09-01</td>\n",
       "      <td>2019-12-06</td>\n",
       "    </tr>\n",
       "    <tr>\n",
       "      <th>813</th>\n",
       "      <td>2019-12-06</td>\n",
       "      <td>329982.035</td>\n",
       "      <td>2019-10-01</td>\n",
       "      <td>2019-12-06</td>\n",
       "    </tr>\n",
       "    <tr>\n",
       "      <th>814</th>\n",
       "      <td>2019-12-06</td>\n",
       "      <td>330154.949</td>\n",
       "      <td>2019-11-01</td>\n",
       "      <td>2019-12-06</td>\n",
       "    </tr>\n",
       "    <tr>\n",
       "      <th>815</th>\n",
       "      <td>2019-12-06</td>\n",
       "      <td>330309.946</td>\n",
       "      <td>2019-12-01</td>\n",
       "      <td>2019-12-06</td>\n",
       "    </tr>\n",
       "  </tbody>\n",
       "</table>\n",
       "<p>816 rows × 4 columns</p>\n",
       "</div>"
      ],
      "text/plain": [
       "    realtime_start       value        date realtime_end\n",
       "0       2019-12-06  156309.000  1952-01-01   2019-12-06\n",
       "1       2019-12-06  156527.000  1952-02-01   2019-12-06\n",
       "2       2019-12-06  156731.000  1952-03-01   2019-12-06\n",
       "3       2019-12-06  156943.000  1952-04-01   2019-12-06\n",
       "4       2019-12-06  157140.000  1952-05-01   2019-12-06\n",
       "..             ...         ...         ...          ...\n",
       "811     2019-12-06  329591.333  2019-08-01   2019-12-06\n",
       "812     2019-12-06  329785.872  2019-09-01   2019-12-06\n",
       "813     2019-12-06  329982.035  2019-10-01   2019-12-06\n",
       "814     2019-12-06  330154.949  2019-11-01   2019-12-06\n",
       "815     2019-12-06  330309.946  2019-12-01   2019-12-06\n",
       "\n",
       "[816 rows x 4 columns]"
      ]
     },
     "execution_count": 173,
     "metadata": {},
     "output_type": "execute_result"
    }
   ],
   "source": [
    "monthly_slr"
   ]
  },
  {
   "cell_type": "markdown",
   "id": "83f26ba9",
   "metadata": {},
   "source": [
    "Informasi terkait dataset yang di gunakan\n",
    "- realtime_start : waktu dilaksanakanya pengumpulan data\n",
    "- value : nilai dari populasi\n",
    "- date : waktu pengumpulan data\n",
    "- realtime_end : waktu berakhir pengumpulan data"
   ]
  },
  {
   "cell_type": "code",
   "execution_count": 174,
   "id": "8be5f781",
   "metadata": {},
   "outputs": [
    {
     "data": {
      "text/html": [
       "<div>\n",
       "<style scoped>\n",
       "    .dataframe tbody tr th:only-of-type {\n",
       "        vertical-align: middle;\n",
       "    }\n",
       "\n",
       "    .dataframe tbody tr th {\n",
       "        vertical-align: top;\n",
       "    }\n",
       "\n",
       "    .dataframe thead th {\n",
       "        text-align: right;\n",
       "    }\n",
       "</style>\n",
       "<table border=\"1\" class=\"dataframe\">\n",
       "  <thead>\n",
       "    <tr style=\"text-align: right;\">\n",
       "      <th></th>\n",
       "      <th>realtime_start</th>\n",
       "      <th>value</th>\n",
       "      <th>date</th>\n",
       "      <th>realtime_end</th>\n",
       "    </tr>\n",
       "  </thead>\n",
       "  <tbody>\n",
       "    <tr>\n",
       "      <th>0</th>\n",
       "      <td>2019-12-06</td>\n",
       "      <td>156309.0</td>\n",
       "      <td>1952-01-01</td>\n",
       "      <td>2019-12-06</td>\n",
       "    </tr>\n",
       "    <tr>\n",
       "      <th>1</th>\n",
       "      <td>2019-12-06</td>\n",
       "      <td>156527.0</td>\n",
       "      <td>1952-02-01</td>\n",
       "      <td>2019-12-06</td>\n",
       "    </tr>\n",
       "    <tr>\n",
       "      <th>2</th>\n",
       "      <td>2019-12-06</td>\n",
       "      <td>156731.0</td>\n",
       "      <td>1952-03-01</td>\n",
       "      <td>2019-12-06</td>\n",
       "    </tr>\n",
       "    <tr>\n",
       "      <th>3</th>\n",
       "      <td>2019-12-06</td>\n",
       "      <td>156943.0</td>\n",
       "      <td>1952-04-01</td>\n",
       "      <td>2019-12-06</td>\n",
       "    </tr>\n",
       "    <tr>\n",
       "      <th>4</th>\n",
       "      <td>2019-12-06</td>\n",
       "      <td>157140.0</td>\n",
       "      <td>1952-05-01</td>\n",
       "      <td>2019-12-06</td>\n",
       "    </tr>\n",
       "  </tbody>\n",
       "</table>\n",
       "</div>"
      ],
      "text/plain": [
       "  realtime_start     value        date realtime_end\n",
       "0     2019-12-06  156309.0  1952-01-01   2019-12-06\n",
       "1     2019-12-06  156527.0  1952-02-01   2019-12-06\n",
       "2     2019-12-06  156731.0  1952-03-01   2019-12-06\n",
       "3     2019-12-06  156943.0  1952-04-01   2019-12-06\n",
       "4     2019-12-06  157140.0  1952-05-01   2019-12-06"
      ]
     },
     "execution_count": 174,
     "metadata": {},
     "output_type": "execute_result"
    }
   ],
   "source": [
    "monthly_slr.head()"
   ]
  },
  {
   "cell_type": "code",
   "execution_count": 175,
   "id": "8c11784e",
   "metadata": {},
   "outputs": [
    {
     "data": {
      "text/html": [
       "<div>\n",
       "<style scoped>\n",
       "    .dataframe tbody tr th:only-of-type {\n",
       "        vertical-align: middle;\n",
       "    }\n",
       "\n",
       "    .dataframe tbody tr th {\n",
       "        vertical-align: top;\n",
       "    }\n",
       "\n",
       "    .dataframe thead th {\n",
       "        text-align: right;\n",
       "    }\n",
       "</style>\n",
       "<table border=\"1\" class=\"dataframe\">\n",
       "  <thead>\n",
       "    <tr style=\"text-align: right;\">\n",
       "      <th></th>\n",
       "      <th>realtime_start</th>\n",
       "      <th>value</th>\n",
       "      <th>date</th>\n",
       "      <th>realtime_end</th>\n",
       "    </tr>\n",
       "  </thead>\n",
       "  <tbody>\n",
       "    <tr>\n",
       "      <th>811</th>\n",
       "      <td>2019-12-06</td>\n",
       "      <td>329591.333</td>\n",
       "      <td>2019-08-01</td>\n",
       "      <td>2019-12-06</td>\n",
       "    </tr>\n",
       "    <tr>\n",
       "      <th>812</th>\n",
       "      <td>2019-12-06</td>\n",
       "      <td>329785.872</td>\n",
       "      <td>2019-09-01</td>\n",
       "      <td>2019-12-06</td>\n",
       "    </tr>\n",
       "    <tr>\n",
       "      <th>813</th>\n",
       "      <td>2019-12-06</td>\n",
       "      <td>329982.035</td>\n",
       "      <td>2019-10-01</td>\n",
       "      <td>2019-12-06</td>\n",
       "    </tr>\n",
       "    <tr>\n",
       "      <th>814</th>\n",
       "      <td>2019-12-06</td>\n",
       "      <td>330154.949</td>\n",
       "      <td>2019-11-01</td>\n",
       "      <td>2019-12-06</td>\n",
       "    </tr>\n",
       "    <tr>\n",
       "      <th>815</th>\n",
       "      <td>2019-12-06</td>\n",
       "      <td>330309.946</td>\n",
       "      <td>2019-12-01</td>\n",
       "      <td>2019-12-06</td>\n",
       "    </tr>\n",
       "  </tbody>\n",
       "</table>\n",
       "</div>"
      ],
      "text/plain": [
       "    realtime_start       value        date realtime_end\n",
       "811     2019-12-06  329591.333  2019-08-01   2019-12-06\n",
       "812     2019-12-06  329785.872  2019-09-01   2019-12-06\n",
       "813     2019-12-06  329982.035  2019-10-01   2019-12-06\n",
       "814     2019-12-06  330154.949  2019-11-01   2019-12-06\n",
       "815     2019-12-06  330309.946  2019-12-01   2019-12-06"
      ]
     },
     "execution_count": 175,
     "metadata": {},
     "output_type": "execute_result"
    }
   ],
   "source": [
    "monthly_slr.tail()"
   ]
  },
  {
   "cell_type": "code",
   "execution_count": 168,
   "id": "ea4a38c8",
   "metadata": {},
   "outputs": [
    {
     "name": "stdout",
     "output_type": "stream",
     "text": [
      "<class 'pandas.core.frame.DataFrame'>\n",
      "Index: 816 entries, 2019-12-06 to 2019-12-06\n",
      "Data columns (total 1 columns):\n",
      " #   Column  Non-Null Count  Dtype  \n",
      "---  ------  --------------  -----  \n",
      " 0   value   816 non-null    float64\n",
      "dtypes: float64(1)\n",
      "memory usage: 12.8+ KB\n"
     ]
    }
   ],
   "source": [
    "monthly_slr.info()"
   ]
  },
  {
   "cell_type": "code",
   "execution_count": 115,
   "id": "97aa5e13",
   "metadata": {},
   "outputs": [],
   "source": [
    "#del monthly_slr['realtime_end']"
   ]
  },
  {
   "cell_type": "code",
   "execution_count": 116,
   "id": "1b62a305",
   "metadata": {},
   "outputs": [],
   "source": [
    "#del monthly_slr['date']"
   ]
  },
  {
   "cell_type": "code",
   "execution_count": 176,
   "id": "92b4f290",
   "metadata": {},
   "outputs": [],
   "source": [
    "del monthly_slr['realtime_start']"
   ]
  },
  {
   "cell_type": "code",
   "execution_count": 177,
   "id": "1e3981e2",
   "metadata": {},
   "outputs": [],
   "source": [
    "del monthly_slr['realtime_end']"
   ]
  },
  {
   "cell_type": "code",
   "execution_count": 178,
   "id": "2041e0a8",
   "metadata": {},
   "outputs": [
    {
     "data": {
      "text/html": [
       "<div>\n",
       "<style scoped>\n",
       "    .dataframe tbody tr th:only-of-type {\n",
       "        vertical-align: middle;\n",
       "    }\n",
       "\n",
       "    .dataframe tbody tr th {\n",
       "        vertical-align: top;\n",
       "    }\n",
       "\n",
       "    .dataframe thead th {\n",
       "        text-align: right;\n",
       "    }\n",
       "</style>\n",
       "<table border=\"1\" class=\"dataframe\">\n",
       "  <thead>\n",
       "    <tr style=\"text-align: right;\">\n",
       "      <th></th>\n",
       "      <th>value</th>\n",
       "      <th>date</th>\n",
       "    </tr>\n",
       "  </thead>\n",
       "  <tbody>\n",
       "    <tr>\n",
       "      <th>0</th>\n",
       "      <td>156309.0</td>\n",
       "      <td>1952-01-01</td>\n",
       "    </tr>\n",
       "    <tr>\n",
       "      <th>1</th>\n",
       "      <td>156527.0</td>\n",
       "      <td>1952-02-01</td>\n",
       "    </tr>\n",
       "    <tr>\n",
       "      <th>2</th>\n",
       "      <td>156731.0</td>\n",
       "      <td>1952-03-01</td>\n",
       "    </tr>\n",
       "    <tr>\n",
       "      <th>3</th>\n",
       "      <td>156943.0</td>\n",
       "      <td>1952-04-01</td>\n",
       "    </tr>\n",
       "    <tr>\n",
       "      <th>4</th>\n",
       "      <td>157140.0</td>\n",
       "      <td>1952-05-01</td>\n",
       "    </tr>\n",
       "  </tbody>\n",
       "</table>\n",
       "</div>"
      ],
      "text/plain": [
       "      value        date\n",
       "0  156309.0  1952-01-01\n",
       "1  156527.0  1952-02-01\n",
       "2  156731.0  1952-03-01\n",
       "3  156943.0  1952-04-01\n",
       "4  157140.0  1952-05-01"
      ]
     },
     "execution_count": 178,
     "metadata": {},
     "output_type": "execute_result"
    }
   ],
   "source": [
    "monthly_slr.head()"
   ]
  },
  {
   "cell_type": "code",
   "execution_count": 179,
   "id": "58266778",
   "metadata": {},
   "outputs": [],
   "source": [
    "# set kolom waktu menjadi index\n",
    "monthly_slr = monthly_slr.set_index(\"date\")"
   ]
  },
  {
   "cell_type": "code",
   "execution_count": 180,
   "id": "d423ecf8",
   "metadata": {},
   "outputs": [
    {
     "data": {
      "text/html": [
       "<div>\n",
       "<style scoped>\n",
       "    .dataframe tbody tr th:only-of-type {\n",
       "        vertical-align: middle;\n",
       "    }\n",
       "\n",
       "    .dataframe tbody tr th {\n",
       "        vertical-align: top;\n",
       "    }\n",
       "\n",
       "    .dataframe thead th {\n",
       "        text-align: right;\n",
       "    }\n",
       "</style>\n",
       "<table border=\"1\" class=\"dataframe\">\n",
       "  <thead>\n",
       "    <tr style=\"text-align: right;\">\n",
       "      <th></th>\n",
       "      <th>value</th>\n",
       "    </tr>\n",
       "    <tr>\n",
       "      <th>date</th>\n",
       "      <th></th>\n",
       "    </tr>\n",
       "  </thead>\n",
       "  <tbody>\n",
       "    <tr>\n",
       "      <th>1952-01-01</th>\n",
       "      <td>156309.0</td>\n",
       "    </tr>\n",
       "    <tr>\n",
       "      <th>1952-02-01</th>\n",
       "      <td>156527.0</td>\n",
       "    </tr>\n",
       "    <tr>\n",
       "      <th>1952-03-01</th>\n",
       "      <td>156731.0</td>\n",
       "    </tr>\n",
       "    <tr>\n",
       "      <th>1952-04-01</th>\n",
       "      <td>156943.0</td>\n",
       "    </tr>\n",
       "    <tr>\n",
       "      <th>1952-05-01</th>\n",
       "      <td>157140.0</td>\n",
       "    </tr>\n",
       "  </tbody>\n",
       "</table>\n",
       "</div>"
      ],
      "text/plain": [
       "               value\n",
       "date                \n",
       "1952-01-01  156309.0\n",
       "1952-02-01  156527.0\n",
       "1952-03-01  156731.0\n",
       "1952-04-01  156943.0\n",
       "1952-05-01  157140.0"
      ]
     },
     "execution_count": 180,
     "metadata": {},
     "output_type": "execute_result"
    }
   ],
   "source": [
    "monthly_slr.head()"
   ]
  },
  {
   "cell_type": "code",
   "execution_count": 181,
   "id": "3cb15231",
   "metadata": {},
   "outputs": [],
   "source": [
    "# memisahkan data train dan data test\n",
    "train_df = monthly_slr[0:-120] # train 90%\n",
    "test_df = monthly_slr[-120:] # test 10%"
   ]
  },
  {
   "cell_type": "code",
   "execution_count": 183,
   "id": "a906ecac",
   "metadata": {},
   "outputs": [
    {
     "data": {
      "text/html": [
       "<div>\n",
       "<style scoped>\n",
       "    .dataframe tbody tr th:only-of-type {\n",
       "        vertical-align: middle;\n",
       "    }\n",
       "\n",
       "    .dataframe tbody tr th {\n",
       "        vertical-align: top;\n",
       "    }\n",
       "\n",
       "    .dataframe thead th {\n",
       "        text-align: right;\n",
       "    }\n",
       "</style>\n",
       "<table border=\"1\" class=\"dataframe\">\n",
       "  <thead>\n",
       "    <tr style=\"text-align: right;\">\n",
       "      <th></th>\n",
       "      <th>value</th>\n",
       "    </tr>\n",
       "    <tr>\n",
       "      <th>date</th>\n",
       "      <th></th>\n",
       "    </tr>\n",
       "  </thead>\n",
       "  <tbody>\n",
       "    <tr>\n",
       "      <th>2010-01-01</th>\n",
       "      <td>308833.000</td>\n",
       "    </tr>\n",
       "    <tr>\n",
       "      <th>2010-02-01</th>\n",
       "      <td>309027.000</td>\n",
       "    </tr>\n",
       "    <tr>\n",
       "      <th>2010-03-01</th>\n",
       "      <td>309212.000</td>\n",
       "    </tr>\n",
       "    <tr>\n",
       "      <th>2010-04-01</th>\n",
       "      <td>309191.211</td>\n",
       "    </tr>\n",
       "    <tr>\n",
       "      <th>2010-05-01</th>\n",
       "      <td>309369.053</td>\n",
       "    </tr>\n",
       "  </tbody>\n",
       "</table>\n",
       "</div>"
      ],
      "text/plain": [
       "                 value\n",
       "date                  \n",
       "2010-01-01  308833.000\n",
       "2010-02-01  309027.000\n",
       "2010-03-01  309212.000\n",
       "2010-04-01  309191.211\n",
       "2010-05-01  309369.053"
      ]
     },
     "execution_count": 183,
     "metadata": {},
     "output_type": "execute_result"
    }
   ],
   "source": [
    "test_df.head()"
   ]
  },
  {
   "cell_type": "code",
   "execution_count": 184,
   "id": "b0a2795d",
   "metadata": {},
   "outputs": [
    {
     "data": {
      "text/html": [
       "<div>\n",
       "<style scoped>\n",
       "    .dataframe tbody tr th:only-of-type {\n",
       "        vertical-align: middle;\n",
       "    }\n",
       "\n",
       "    .dataframe tbody tr th {\n",
       "        vertical-align: top;\n",
       "    }\n",
       "\n",
       "    .dataframe thead th {\n",
       "        text-align: right;\n",
       "    }\n",
       "</style>\n",
       "<table border=\"1\" class=\"dataframe\">\n",
       "  <thead>\n",
       "    <tr style=\"text-align: right;\">\n",
       "      <th></th>\n",
       "      <th>value</th>\n",
       "    </tr>\n",
       "    <tr>\n",
       "      <th>date</th>\n",
       "      <th></th>\n",
       "    </tr>\n",
       "  </thead>\n",
       "  <tbody>\n",
       "    <tr>\n",
       "      <th>2009-08-01</th>\n",
       "      <td>307685.0</td>\n",
       "    </tr>\n",
       "    <tr>\n",
       "      <th>2009-09-01</th>\n",
       "      <td>307946.0</td>\n",
       "    </tr>\n",
       "    <tr>\n",
       "      <th>2009-10-01</th>\n",
       "      <td>308189.0</td>\n",
       "    </tr>\n",
       "    <tr>\n",
       "      <th>2009-11-01</th>\n",
       "      <td>308418.0</td>\n",
       "    </tr>\n",
       "    <tr>\n",
       "      <th>2009-12-01</th>\n",
       "      <td>308633.0</td>\n",
       "    </tr>\n",
       "  </tbody>\n",
       "</table>\n",
       "</div>"
      ],
      "text/plain": [
       "               value\n",
       "date                \n",
       "2009-08-01  307685.0\n",
       "2009-09-01  307946.0\n",
       "2009-10-01  308189.0\n",
       "2009-11-01  308418.0\n",
       "2009-12-01  308633.0"
      ]
     },
     "execution_count": 184,
     "metadata": {},
     "output_type": "execute_result"
    }
   ],
   "source": [
    "train_df.tail()"
   ]
  },
  {
   "cell_type": "code",
   "execution_count": 185,
   "id": "51059093",
   "metadata": {},
   "outputs": [
    {
     "data": {
      "text/plain": [
       "156309.0"
      ]
     },
     "execution_count": 185,
     "metadata": {},
     "output_type": "execute_result"
    }
   ],
   "source": [
    "min(train_df[\"value\"])"
   ]
  },
  {
   "cell_type": "code",
   "execution_count": 186,
   "id": "d0782f0f",
   "metadata": {},
   "outputs": [
    {
     "data": {
      "text/plain": [
       "308633.0"
      ]
     },
     "execution_count": 186,
     "metadata": {},
     "output_type": "execute_result"
    }
   ],
   "source": [
    "max(train_df[\"value\"])"
   ]
  },
  {
   "cell_type": "code",
   "execution_count": 187,
   "id": "7edb11fa",
   "metadata": {},
   "outputs": [
    {
     "data": {
      "text/plain": [
       "<AxesSubplot: xlabel='date'>"
      ]
     },
     "execution_count": 187,
     "metadata": {},
     "output_type": "execute_result"
    },
    {
     "data": {
      "image/png": "[encoded data removed]",
      "text/plain": [
       "<Figure size 640x480 with 1 Axes>"
      ]
     },
     "metadata": {},
     "output_type": "display_data"
    }
   ],
   "source": [
    "train_df[\"value\"].plot()"
   ]
  },
  {
   "cell_type": "code",
   "execution_count": 126,
   "id": "bd5e4fde",
   "metadata": {},
   "outputs": [],
   "source": [
    "from sklearn.preprocessing import StandardScaler"
   ]
  },
  {
   "cell_type": "markdown",
   "id": "72e809d6",
   "metadata": {},
   "source": [
    "### Quick Summary\n",
    "- `StandardScaler` adalah sebuah class atau objek dari library Scikit-learn (sklearn) yang digunakan untuk melakukan preprocessing pada data. Preprocessing data adalah proses mempersiapkan dan membersihkan data sebelum dijadikan input untuk proses machine learning.\n",
    "- `StandardScaler` digunakan untuk melakukan standardisasi data numerik, yaitu mengubah data numerik menjadi data yang memiliki rata-rata 0 dan standar deviasi 1. Hal ini dilakukan untuk memperbaiki performa model machine learning, khususnya algoritma yang menggunakan jarak antar data, seperti algoritma k-nearest neighbors dan support vector machine.\n",
    "- `fit_transform` adalah sebuah method dari objek transformer pada library Scikit-learn (sklearn) yang digunakan untuk melakukan preprocessing data. Method ini digunakan untuk mempelajari dan melakukan transformasi pada data secara bersamaan.\n",
    "- Pada dasarnya, `fit_transform` adalah gabungan dari method fit dan transform. Method fit digunakan untuk mempelajari karakteristik data, seperti nilai rata-rata dan standar deviasi pada data numerik, sementara method transform digunakan untuk mengaplikasikan transformasi tersebut pada data."
   ]
  },
  {
   "cell_type": "code",
   "execution_count": 127,
   "id": "f7d5df0c",
   "metadata": {},
   "outputs": [],
   "source": [
    "# membuat object scaler\n",
    "scaler = StandardScaler()\n",
    "\n",
    "# melakukan scaling terhadap data train\n",
    "train_scale = scaler.fit_transform(train_df)\n",
    "\n",
    "# melakukan scaling terhadap data test\n",
    "test_scale = scaler.transform(test_df)"
   ]
  },
  {
   "cell_type": "code",
   "execution_count": 128,
   "id": "30a270a9",
   "metadata": {},
   "outputs": [
    {
     "data": {
      "text/plain": [
       "array([[-1.74604933e+00],\n",
       "       [-1.74093743e+00],\n",
       "       [-1.73615381e+00],\n",
       "       [-1.73118261e+00],\n",
       "       [-1.72656314e+00],\n",
       "       [-1.72180298e+00],\n",
       "       [-1.71687867e+00],\n",
       "       [-1.71113364e+00],\n",
       "       [-1.70515413e+00],\n",
       "       [-1.69922151e+00],\n",
       "       [-1.69582139e+00],\n",
       "       [-1.68864597e+00],\n",
       "       [-1.68358097e+00],\n",
       "       [-1.67896150e+00],\n",
       "       [-1.67476412e+00],\n",
       "       [-1.66991016e+00],\n",
       "       [-1.66547828e+00],\n",
       "       [-1.66053053e+00],\n",
       "       [-1.65518413e+00],\n",
       "       [-1.64897013e+00],\n",
       "       [-1.64266232e+00],\n",
       "       [-1.63656556e+00],\n",
       "       [-1.63082054e+00],\n",
       "       [-1.62542725e+00],\n",
       "       [-1.61986982e+00],\n",
       "       [-1.61466412e+00],\n",
       "       [-1.60969292e+00],\n",
       "       [-1.60439342e+00],\n",
       "       [-1.59937532e+00],\n",
       "       [-1.59407583e+00],\n",
       "       [-1.58854184e+00],\n",
       "       [-1.58235129e+00],\n",
       "       [-1.57578554e+00],\n",
       "       [-1.56929015e+00],\n",
       "       [-1.56319339e+00],\n",
       "       [-1.55751871e+00],\n",
       "       [-1.55191438e+00],\n",
       "       [-1.54673213e+00],\n",
       "       [-1.54183127e+00],\n",
       "       [-1.53636764e+00],\n",
       "       [-1.53139643e+00],\n",
       "       [-1.52595624e+00],\n",
       "       [-1.52042226e+00],\n",
       "       [-1.51430205e+00],\n",
       "       [-1.50771286e+00],\n",
       "       [-1.50110022e+00],\n",
       "       [-1.49481586e+00],\n",
       "       [-1.48902394e+00],\n",
       "       [-1.48332581e+00],\n",
       "       [-1.47786218e+00],\n",
       "       [-1.47244544e+00],\n",
       "       [-1.46672386e+00],\n",
       "       [-1.46168231e+00],\n",
       "       [-1.45645317e+00],\n",
       "       [-1.45073159e+00],\n",
       "       [-1.44397825e+00],\n",
       "       [-1.43701388e+00],\n",
       "       [-1.43016675e+00],\n",
       "       [-1.42353066e+00],\n",
       "       [-1.41762149e+00],\n",
       "       [-1.41161852e+00],\n",
       "       [-1.40610799e+00],\n",
       "       [-1.40087884e+00],\n",
       "       [-1.39520416e+00],\n",
       "       [-1.38981088e+00],\n",
       "       [-1.38418310e+00],\n",
       "       [-1.37848497e+00],\n",
       "       [-1.37208337e+00],\n",
       "       [-1.36549418e+00],\n",
       "       [-1.35897533e+00],\n",
       "       [-1.35301927e+00],\n",
       "       [-1.34767288e+00],\n",
       "       [-1.34216234e+00],\n",
       "       [-1.33716769e+00],\n",
       "       [-1.33250132e+00],\n",
       "       [-1.32708458e+00],\n",
       "       [-1.32190233e+00],\n",
       "       [-1.31622766e+00],\n",
       "       [-1.31052953e+00],\n",
       "       [-1.30440932e+00],\n",
       "       [-1.29807807e+00],\n",
       "       [-1.29141853e+00],\n",
       "       [-1.28511072e+00],\n",
       "       [-1.27945950e+00],\n",
       "       [-1.27383172e+00],\n",
       "       [-1.26825084e+00],\n",
       "       [-1.26309204e+00],\n",
       "       [-1.25744081e+00],\n",
       "       [-1.25230546e+00],\n",
       "       [-1.24700597e+00],\n",
       "       [-1.24140164e+00],\n",
       "       [-1.23504694e+00],\n",
       "       [-1.22859844e+00],\n",
       "       [-1.22200925e+00],\n",
       "       [-1.21581869e+00],\n",
       "       [-1.21037850e+00],\n",
       "       [-1.20491487e+00],\n",
       "       [-1.19996711e+00],\n",
       "       [-1.19548833e+00],\n",
       "       [-1.19035299e+00],\n",
       "       [-1.18531143e+00],\n",
       "       [-1.18010574e+00],\n",
       "       [-1.17478279e+00],\n",
       "       [-1.16835775e+00],\n",
       "       [-1.16148717e+00],\n",
       "       [-1.15468693e+00],\n",
       "       [-1.14840258e+00],\n",
       "       [-1.14263410e+00],\n",
       "       [-1.13688908e+00],\n",
       "       [-1.13142544e+00],\n",
       "       [-1.12621975e+00],\n",
       "       [-1.12035748e+00],\n",
       "       [-1.11508143e+00],\n",
       "       [-1.10957090e+00],\n",
       "       [-1.10396657e+00],\n",
       "       [-1.09770566e+00],\n",
       "       [-1.09102267e+00],\n",
       "       [-1.08443348e+00],\n",
       "       [-1.07836017e+00],\n",
       "       [-1.07289653e+00],\n",
       "       [-1.06759704e+00],\n",
       "       [-1.06267273e+00],\n",
       "       [-1.05802982e+00],\n",
       "       [-1.05277722e+00],\n",
       "       [-1.04778257e+00],\n",
       "       [-1.04245963e+00],\n",
       "       [-1.03720703e+00],\n",
       "       [-1.03129786e+00],\n",
       "       [-1.02501351e+00],\n",
       "       [-1.01879950e+00],\n",
       "       [-1.01291378e+00],\n",
       "       [-1.00770809e+00],\n",
       "       [-1.00261964e+00],\n",
       "       [-9.97929820e-01],\n",
       "       [-9.93849679e-01],\n",
       "       [-9.89324007e-01],\n",
       "       [-9.84399699e-01],\n",
       "       [-9.79053309e-01],\n",
       "       [-9.73800714e-01],\n",
       "       [-9.67844648e-01],\n",
       "       [-9.61630641e-01],\n",
       "       [-9.55369736e-01],\n",
       "       [-9.49812304e-01],\n",
       "       [-9.44958344e-01],\n",
       "       [-9.40362324e-01],\n",
       "       [-9.35906998e-01],\n",
       "       [-9.31475122e-01],\n",
       "       [-9.26832203e-01],\n",
       "       [-9.22095489e-01],\n",
       "       [-9.16960140e-01],\n",
       "       [-9.11730995e-01],\n",
       "       [-9.06056317e-01],\n",
       "       [-9.00311292e-01],\n",
       "       [-8.94331776e-01],\n",
       "       [-8.89266774e-01],\n",
       "       [-8.84764551e-01],\n",
       "       [-8.80449920e-01],\n",
       "       [-8.76463576e-01],\n",
       "       [-8.73016561e-01],\n",
       "       [-8.69053666e-01],\n",
       "       [-8.64856280e-01],\n",
       "       [-8.60189913e-01],\n",
       "       [-8.55124911e-01],\n",
       "       [-8.49848868e-01],\n",
       "       [-8.44385232e-01],\n",
       "       [-8.38851248e-01],\n",
       "       [-8.34208330e-01],\n",
       "       [-8.30057843e-01],\n",
       "       [-8.26141846e-01],\n",
       "       [-8.22647933e-01],\n",
       "       [-8.19294714e-01],\n",
       "       [-8.15355268e-01],\n",
       "       [-8.11157883e-01],\n",
       "       [-8.06608761e-01],\n",
       "       [-8.02200333e-01],\n",
       "       [-7.97463619e-01],\n",
       "       [-7.92257923e-01],\n",
       "       [-7.87028778e-01],\n",
       "       [-7.82550003e-01],\n",
       "       [-7.78469863e-01],\n",
       "       [-7.74624213e-01],\n",
       "       [-7.70966156e-01],\n",
       "       [-7.67566040e-01],\n",
       "       [-7.63603145e-01],\n",
       "       [-7.59921639e-01],\n",
       "       [-7.55841499e-01],\n",
       "       [-7.51737909e-01],\n",
       "       [-7.47071542e-01],\n",
       "       [-7.42334828e-01],\n",
       "       [-7.37691909e-01],\n",
       "       [-7.33306931e-01],\n",
       "       [-7.29578527e-01],\n",
       "       [-7.26037716e-01],\n",
       "       [-7.23411418e-01],\n",
       "       [-7.20222343e-01],\n",
       "       [-7.16658083e-01],\n",
       "       [-7.13070373e-01],\n",
       "       [-7.08966784e-01],\n",
       "       [-7.04980440e-01],\n",
       "       [-7.00478216e-01],\n",
       "       [-6.95858747e-01],\n",
       "       [-6.91286176e-01],\n",
       "       [-6.87159138e-01],\n",
       "       [-6.83524530e-01],\n",
       "       [-6.80265108e-01],\n",
       "       [-6.77427769e-01],\n",
       "       [-6.74097999e-01],\n",
       "       [-6.70862026e-01],\n",
       "       [-6.66875682e-01],\n",
       "       [-6.62748644e-01],\n",
       "       [-6.58762300e-01],\n",
       "       [-6.54072483e-01],\n",
       "       [-6.49077829e-01],\n",
       "       [-6.44106624e-01],\n",
       "       [-6.39463705e-01],\n",
       "       [-6.35360116e-01],\n",
       "       [-6.31279976e-01],\n",
       "       [-6.27551572e-01],\n",
       "       [-6.24081108e-01],\n",
       "       [-6.18336083e-01],\n",
       "       [-6.13505572e-01],\n",
       "       [-6.08276427e-01],\n",
       "       [-6.03070730e-01],\n",
       "       [-5.97372604e-01],\n",
       "       [-5.91627579e-01],\n",
       "       [-5.85812206e-01],\n",
       "       [-5.80278223e-01],\n",
       "       [-5.75260119e-01],\n",
       "       [-5.69913729e-01],\n",
       "       [-5.65177014e-01],\n",
       "       [-5.60792036e-01],\n",
       "       [-5.55867729e-01],\n",
       "       [-5.51295158e-01],\n",
       "       [-5.46558443e-01],\n",
       "       [-5.41892076e-01],\n",
       "       [-5.36733278e-01],\n",
       "       [-5.31269642e-01],\n",
       "       [-5.25852904e-01],\n",
       "       [-5.20928597e-01],\n",
       "       [-5.16590517e-01],\n",
       "       [-5.12440029e-01],\n",
       "       [-5.09063361e-01],\n",
       "       [-5.05522550e-01],\n",
       "       [-5.01442410e-01],\n",
       "       [-4.97714006e-01],\n",
       "       [-4.93493171e-01],\n",
       "       [-4.89483378e-01],\n",
       "       [-4.85285992e-01],\n",
       "       [-4.80525829e-01],\n",
       "       [-4.75812563e-01],\n",
       "       [-4.71662076e-01],\n",
       "       [-4.67792977e-01],\n",
       "       [-4.63947328e-01],\n",
       "       [-4.60781702e-01],\n",
       "       [-4.57639525e-01],\n",
       "       [-4.53746977e-01],\n",
       "       [-4.50065471e-01],\n",
       "       [-4.46102577e-01],\n",
       "       [-4.42280376e-01],\n",
       "       [-4.37989194e-01],\n",
       "       [-4.33369725e-01],\n",
       "       [-4.29008196e-01],\n",
       "       [-4.25279792e-01],\n",
       "       [-4.21738981e-01],\n",
       "       [-4.18291966e-01],\n",
       "       [-4.14962196e-01],\n",
       "       [-4.11749672e-01],\n",
       "       [-4.08232309e-01],\n",
       "       [-4.04668049e-01],\n",
       "       [-4.00611358e-01],\n",
       "       [-3.96671912e-01],\n",
       "       [-3.92263485e-01],\n",
       "       [-3.87479872e-01],\n",
       "       [-3.82672810e-01],\n",
       "       [-3.78592670e-01],\n",
       "       [-3.74911164e-01],\n",
       "       [-3.71417251e-01],\n",
       "       [-3.68275074e-01],\n",
       "       [-3.65156346e-01],\n",
       "       [-3.61521738e-01],\n",
       "       [-3.57535394e-01],\n",
       "       [-3.51790369e-01],\n",
       "       [-3.46983308e-01],\n",
       "       [-3.41777611e-01],\n",
       "       [-3.37134693e-01],\n",
       "       [-3.32585571e-01],\n",
       "       [-3.28270940e-01],\n",
       "       [-3.24519087e-01],\n",
       "       [-3.20673438e-01],\n",
       "       [-3.17062279e-01],\n",
       "       [-3.13967000e-01],\n",
       "       [-3.10519985e-01],\n",
       "       [-3.06838480e-01],\n",
       "       [-3.02711441e-01],\n",
       "       [-2.98631301e-01],\n",
       "       [-2.93988383e-01],\n",
       "       [-2.89134423e-01],\n",
       "       [-2.84350810e-01],\n",
       "       [-2.79895484e-01],\n",
       "       [-2.75862242e-01],\n",
       "       [-2.71805551e-01],\n",
       "       [-2.67936453e-01],\n",
       "       [-2.64184600e-01],\n",
       "       [-2.59963765e-01],\n",
       "       [-2.55860176e-01],\n",
       "       [-2.51475197e-01],\n",
       "       [-2.46949525e-01],\n",
       "       [-2.41814176e-01],\n",
       "       [-2.36420887e-01],\n",
       "       [-2.31355885e-01],\n",
       "       [-2.26548823e-01],\n",
       "       [-2.21999701e-01],\n",
       "       [-2.17919561e-01],\n",
       "       [-2.14355301e-01],\n",
       "       [-2.10533100e-01],\n",
       "       [-2.05866733e-01],\n",
       "       [-2.01528653e-01],\n",
       "       [-1.96768489e-01],\n",
       "       [-1.91937978e-01],\n",
       "       [-1.86779180e-01],\n",
       "       [-1.80963808e-01],\n",
       "       [-1.75851908e-01],\n",
       "       [-1.71021397e-01],\n",
       "       [-1.66495725e-01],\n",
       "       [-1.61923154e-01],\n",
       "       [-1.57514726e-01],\n",
       "       [-1.53246993e-01],\n",
       "       [-1.48486830e-01],\n",
       "       [-1.43937708e-01],\n",
       "       [-1.38989952e-01],\n",
       "       [-1.34018746e-01],\n",
       "       [-1.28390967e-01],\n",
       "       [-1.22481798e-01],\n",
       "       [-1.16525731e-01],\n",
       "       [-1.11226239e-01],\n",
       "       [-1.06161237e-01],\n",
       "       [-1.01283828e-01],\n",
       "       [-9.64767663e-02],\n",
       "       [-9.19510935e-02],\n",
       "       [-8.69798882e-02],\n",
       "       [-8.25245626e-02],\n",
       "       [-7.61698614e-02],\n",
       "       [-7.13862487e-02],\n",
       "       [-6.60633072e-02],\n",
       "       [-6.05996711e-02],\n",
       "       [-5.51829332e-02],\n",
       "       [-5.06103622e-02],\n",
       "       [-4.66943656e-02],\n",
       "       [-4.29894106e-02],\n",
       "       [-3.98472337e-02],\n",
       "       [-3.62595241e-02],\n",
       "       [-3.20621385e-02],\n",
       "       [-2.80288964e-02],\n",
       "       [-2.36673672e-02],\n",
       "       [-1.88603054e-02],\n",
       "       [-1.36780583e-02],\n",
       "       [-8.40201491e-03],\n",
       "       [-3.03217517e-03],\n",
       "       [ 1.21210865e-03],\n",
       "       [ 5.12810531e-03],\n",
       "       [ 9.06755106e-03],\n",
       "       [ 1.27256078e-02],\n",
       "       [ 1.64071137e-02],\n",
       "       [ 2.05107030e-02],\n",
       "       [ 2.43563524e-02],\n",
       "       [ 2.86475344e-02],\n",
       "       [ 3.32435544e-02],\n",
       "       [ 3.80271671e-02],\n",
       "       [ 4.28811271e-02],\n",
       "       [ 4.79695778e-02],\n",
       "       [ 5.21200653e-02],\n",
       "       [ 5.60360620e-02],\n",
       "       [ 5.98348133e-02],\n",
       "       [ 6.33756246e-02],\n",
       "       [ 6.66584961e-02],\n",
       "       [ 7.05979418e-02],\n",
       "       [ 7.39042624e-02],\n",
       "       [ 7.85002824e-02],\n",
       "       [ 8.29321589e-02],\n",
       "       [ 8.74812807e-02],\n",
       "       [ 9.21710971e-02],\n",
       "       [ 9.70016080e-02],\n",
       "       [ 1.01011401e-01],\n",
       "       [ 1.04692907e-01],\n",
       "       [ 1.08210269e-01],\n",
       "       [ 1.11540039e-01],\n",
       "       [ 1.15010503e-01],\n",
       "       [ 1.18856152e-01],\n",
       "       [ 1.22467311e-01],\n",
       "       [ 1.26383308e-01],\n",
       "       [ 1.30791735e-01],\n",
       "       [ 1.35505000e-01],\n",
       "       [ 1.40452757e-01],\n",
       "       [ 1.45517758e-01],\n",
       "       [ 1.49808940e-01],\n",
       "       [ 1.53490446e-01],\n",
       "       [ 1.57054707e-01],\n",
       "       [ 1.60196884e-01],\n",
       "       [ 1.63245264e-01],\n",
       "       [ 1.67184710e-01],\n",
       "       [ 1.71264850e-01],\n",
       "       [ 1.75860870e-01],\n",
       "       [ 1.80456890e-01],\n",
       "       [ 1.85451545e-01],\n",
       "       [ 1.90586894e-01],\n",
       "       [ 1.95628446e-01],\n",
       "       [ 2.00177568e-01],\n",
       "       [ 2.04163912e-01],\n",
       "       [ 2.07939214e-01],\n",
       "       [ 2.11456576e-01],\n",
       "       [ 2.14739448e-01],\n",
       "       [ 2.18631995e-01],\n",
       "       [ 2.22782483e-01],\n",
       "       [ 2.27190910e-01],\n",
       "       [ 2.31693134e-01],\n",
       "       [ 2.36453298e-01],\n",
       "       [ 2.41471401e-01],\n",
       "       [ 2.46301912e-01],\n",
       "       [ 2.50827585e-01],\n",
       "       [ 2.54415294e-01],\n",
       "       [ 2.58260944e-01],\n",
       "       [ 2.61684510e-01],\n",
       "       [ 2.65178423e-01],\n",
       "       [ 2.69235114e-01],\n",
       "       [ 2.73244907e-01],\n",
       "       [ 2.77582987e-01],\n",
       "       [ 2.82179007e-01],\n",
       "       [ 2.87056416e-01],\n",
       "       [ 2.92004173e-01],\n",
       "       [ 2.97233318e-01],\n",
       "       [ 3.01758991e-01],\n",
       "       [ 3.05745335e-01],\n",
       "       [ 3.09778577e-01],\n",
       "       [ 3.13295939e-01],\n",
       "       [ 3.16766403e-01],\n",
       "       [ 3.20658951e-01],\n",
       "       [ 3.24528049e-01],\n",
       "       [ 3.29124069e-01],\n",
       "       [ 3.34165622e-01],\n",
       "       [ 3.39300971e-01],\n",
       "       [ 3.44553565e-01],\n",
       "       [ 3.49923405e-01],\n",
       "       [ 3.54402179e-01],\n",
       "       [ 3.58435421e-01],\n",
       "       [ 3.62374867e-01],\n",
       "       [ 3.65986026e-01],\n",
       "       [ 3.69550286e-01],\n",
       "       [ 3.74029061e-01],\n",
       "       [ 3.78367141e-01],\n",
       "       [ 3.83244550e-01],\n",
       "       [ 3.88590941e-01],\n",
       "       [ 3.94007679e-01],\n",
       "       [ 3.99705805e-01],\n",
       "       [ 4.05591525e-01],\n",
       "       [ 4.10609629e-01],\n",
       "       [ 4.15252547e-01],\n",
       "       [ 4.19473381e-01],\n",
       "       [ 4.23412827e-01],\n",
       "       [ 4.27750907e-01],\n",
       "       [ 4.34644937e-01],\n",
       "       [ 4.40718250e-01],\n",
       "       [ 4.47377789e-01],\n",
       "       [ 4.54013879e-01],\n",
       "       [ 4.61212747e-01],\n",
       "       [ 4.68528861e-01],\n",
       "       [ 4.75704280e-01],\n",
       "       [ 4.82481064e-01],\n",
       "       [ 4.89046807e-01],\n",
       "       [ 4.95213916e-01],\n",
       "       [ 5.00982390e-01],\n",
       "       [ 5.06539822e-01],\n",
       "       [ 5.12894524e-01],\n",
       "       [ 5.19225776e-01],\n",
       "       [ 5.26119806e-01],\n",
       "       [ 5.32826243e-01],\n",
       "       [ 5.40189255e-01],\n",
       "       [ 5.47669512e-01],\n",
       "       [ 5.54915278e-01],\n",
       "       [ 5.61551368e-01],\n",
       "       [ 5.67319843e-01],\n",
       "       [ 5.73182113e-01],\n",
       "       [ 5.78669198e-01],\n",
       "       [ 5.84648714e-01],\n",
       "       [ 5.91425499e-01],\n",
       "       [ 5.98296080e-01],\n",
       "       [ 6.05424601e-01],\n",
       "       [ 6.12576570e-01],\n",
       "       [ 6.20502360e-01],\n",
       "       [ 6.27912270e-01],\n",
       "       [ 6.35251833e-01],\n",
       "       [ 6.41958270e-01],\n",
       "       [ 6.48195726e-01],\n",
       "       [ 6.54433182e-01],\n",
       "       [ 6.60060961e-01],\n",
       "       [ 6.65524597e-01],\n",
       "       [ 6.71668257e-01],\n",
       "       [ 6.77905712e-01],\n",
       "       [ 6.84541803e-01],\n",
       "       [ 6.91388935e-01],\n",
       "       [ 6.98681599e-01],\n",
       "       [ 7.05739773e-01],\n",
       "       [ 7.12680701e-01],\n",
       "       [ 7.18824360e-01],\n",
       "       [ 7.24663182e-01],\n",
       "       [ 7.30408207e-01],\n",
       "       [ 7.35191819e-01],\n",
       "       [ 7.40561659e-01],\n",
       "       [ 7.47103953e-01],\n",
       "       [ 7.52872427e-01],\n",
       "       [ 7.59320925e-01],\n",
       "       [ 7.65980464e-01],\n",
       "       [ 7.72733799e-01],\n",
       "       [ 7.79604380e-01],\n",
       "       [ 7.86263920e-01],\n",
       "       [ 7.92313783e-01],\n",
       "       [ 7.98058808e-01],\n",
       "       [ 8.03686587e-01],\n",
       "       [ 8.08986080e-01],\n",
       "       [ 8.14262123e-01],\n",
       "       [ 8.20358885e-01],\n",
       "       [ 8.26057012e-01],\n",
       "       [ 8.32435162e-01],\n",
       "       [ 8.39165048e-01],\n",
       "       [ 8.45871486e-01],\n",
       "       [ 8.53117252e-01],\n",
       "       [ 8.60245773e-01],\n",
       "       [ 8.66319085e-01],\n",
       "       [ 8.71665476e-01],\n",
       "       [ 8.76542885e-01],\n",
       "       [ 8.81537539e-01],\n",
       "       [ 8.86954277e-01],\n",
       "       [ 8.93004140e-01],\n",
       "       [ 8.98983656e-01],\n",
       "       [ 9.05502501e-01],\n",
       "       [ 9.12091693e-01],\n",
       "       [ 9.19337459e-01],\n",
       "       [ 9.26559776e-01],\n",
       "       [ 9.33524154e-01],\n",
       "       [ 9.40488531e-01],\n",
       "       [ 9.46280454e-01],\n",
       "       [ 9.51790988e-01],\n",
       "       [ 9.57067032e-01],\n",
       "       [ 9.62601015e-01],\n",
       "       [ 9.68744675e-01],\n",
       "       [ 9.74817987e-01],\n",
       "       [ 9.81383730e-01],\n",
       "       [ 9.88183963e-01],\n",
       "       [ 9.95804915e-01],\n",
       "       [ 1.00321482e+00],\n",
       "       [ 1.01022610e+00],\n",
       "       [ 1.01665115e+00],\n",
       "       [ 1.02241962e+00],\n",
       "       [ 1.02837569e+00],\n",
       "       [ 1.03334690e+00],\n",
       "       [ 1.03824775e+00],\n",
       "       [ 1.04427417e+00],\n",
       "       [ 1.05037093e+00],\n",
       "       [ 1.05674908e+00],\n",
       "       [ 1.06329137e+00],\n",
       "       [ 1.07039644e+00],\n",
       "       [ 1.07733737e+00],\n",
       "       [ 1.08411416e+00],\n",
       "       [ 1.09053921e+00],\n",
       "       [ 1.09637803e+00],\n",
       "       [ 1.10256858e+00],\n",
       "       [ 1.10730530e+00],\n",
       "       [ 1.11213581e+00],\n",
       "       [ 1.11806843e+00],\n",
       "       [ 1.12430588e+00],\n",
       "       [ 1.13096542e+00],\n",
       "       [ 1.13785945e+00],\n",
       "       [ 1.14505832e+00],\n",
       "       [ 1.15211649e+00],\n",
       "       [ 1.15915122e+00],\n",
       "       [ 1.16543557e+00],\n",
       "       [ 1.17118060e+00],\n",
       "       [ 1.17727736e+00],\n",
       "       [ 1.18229546e+00],\n",
       "       [ 1.18743081e+00],\n",
       "       [ 1.19315239e+00],\n",
       "       [ 1.19840498e+00],\n",
       "       [ 1.20424380e+00],\n",
       "       [ 1.21031712e+00],\n",
       "       [ 1.21660147e+00],\n",
       "       [ 1.22314376e+00],\n",
       "       [ 1.22945157e+00],\n",
       "       [ 1.23536074e+00],\n",
       "       [ 1.24105886e+00],\n",
       "       [ 1.24631146e+00],\n",
       "       [ 1.25139991e+00],\n",
       "       [ 1.25639456e+00],\n",
       "       [ 1.26181130e+00],\n",
       "       [ 1.26718114e+00],\n",
       "       [ 1.27309031e+00],\n",
       "       [ 1.27888223e+00],\n",
       "       [ 1.28500244e+00],\n",
       "       [ 1.29140404e+00],\n",
       "       [ 1.29738356e+00],\n",
       "       [ 1.30308168e+00],\n",
       "       [ 1.30845152e+00],\n",
       "       [ 1.31356342e+00],\n",
       "       [ 1.31839393e+00],\n",
       "       [ 1.32298995e+00],\n",
       "       [ 1.32784391e+00],\n",
       "       [ 1.33314341e+00],\n",
       "       [ 1.33879464e+00],\n",
       "       [ 1.34444586e+00],\n",
       "       [ 1.35042538e+00],\n",
       "       [ 1.35647524e+00],\n",
       "       [ 1.36238441e+00],\n",
       "       [ 1.36791839e+00],\n",
       "       [ 1.37277235e+00],\n",
       "       [ 1.37757942e+00],\n",
       "       [ 1.38217544e+00],\n",
       "       [ 1.38679491e+00],\n",
       "       [ 1.39181301e+00],\n",
       "       [ 1.39699526e+00],\n",
       "       [ 1.40257614e+00],\n",
       "       [ 1.40811012e+00],\n",
       "       [ 1.41401929e+00],\n",
       "       [ 1.41985811e+00],\n",
       "       [ 1.42579073e+00],\n",
       "       [ 1.43125436e+00],\n",
       "       [ 1.43596763e+00],\n",
       "       [ 1.44028226e+00],\n",
       "       [ 1.44440930e+00],\n",
       "       [ 1.44893497e+00],\n",
       "       [ 1.45404687e+00],\n",
       "       [ 1.45915877e+00],\n",
       "       [ 1.46445826e+00],\n",
       "       [ 1.47008604e+00],\n",
       "       [ 1.47608901e+00],\n",
       "       [ 1.48199818e+00],\n",
       "       [ 1.48807149e+00],\n",
       "       [ 1.49360547e+00],\n",
       "       [ 1.49895186e+00],\n",
       "       [ 1.50411066e+00],\n",
       "       [ 1.50858944e+00],\n",
       "       [ 1.51285717e+00],\n",
       "       [ 1.51761733e+00],\n",
       "       [ 1.52263544e+00],\n",
       "       [ 1.52807562e+00],\n",
       "       [ 1.53393789e+00],\n",
       "       [ 1.53989396e+00],\n",
       "       [ 1.54615487e+00],\n",
       "       [ 1.55236887e+00],\n",
       "       [ 1.55787941e+00],\n",
       "       [ 1.56313200e+00],\n",
       "       [ 1.56819700e+00],\n",
       "       [ 1.57305096e+00],\n",
       "       [ 1.57788147e+00],\n",
       "       [ 1.58306372e+00],\n",
       "       [ 1.58810527e+00],\n",
       "       [ 1.59380340e+00],\n",
       "       [ 1.59982981e+00],\n",
       "       [ 1.60609072e+00],\n",
       "       [ 1.61291440e+00],\n",
       "       [ 1.61950359e+00],\n",
       "       [ 1.62557691e+00],\n",
       "       [ 1.63134538e+00],\n",
       "       [ 1.63683247e+00],\n",
       "       [ 1.64217886e+00],\n",
       "       [ 1.64731420e+00],\n",
       "       [ 1.65277784e+00],\n",
       "       [ 1.65814768e+00],\n",
       "       [ 1.66415065e+00],\n",
       "       [ 1.67036465e+00],\n",
       "       [ 1.67653176e+00],\n",
       "       [ 1.68307405e+00],\n",
       "       [ 1.68919427e+00],\n",
       "       [ 1.69498619e+00],\n",
       "       [ 1.70044982e+00],\n",
       "       [ 1.70558517e+00],\n",
       "       [ 1.71039224e+00],\n",
       "       [ 1.71498826e+00],\n",
       "       [ 1.71991256e+00],\n",
       "       [ 1.72474307e+00],\n",
       "       [ 1.73020671e+00],\n",
       "       [ 1.73588139e+00],\n",
       "       [ 1.74167331e+00],\n",
       "       [ 1.74786387e+00],\n",
       "       [ 1.75360889e+00],\n",
       "       [ 1.75904908e+00],\n",
       "       [ 1.76416098e+00],\n",
       "       [ 1.76894459e+00],\n",
       "       [ 1.77349371e+00],\n",
       "       [ 1.77785524e+00],\n",
       "       [ 1.78252161e+00],\n",
       "       [ 1.78714108e+00],\n",
       "       [ 1.79234678e+00],\n",
       "       [ 1.79781041e+00],\n",
       "       [ 1.80357889e+00],\n",
       "       [ 1.80969910e+00],\n",
       "       [ 1.81539722e+00],\n",
       "       [ 1.82076706e+00],\n",
       "       [ 1.82580862e+00]])"
      ]
     },
     "execution_count": 128,
     "metadata": {},
     "output_type": "execute_result"
    }
   ],
   "source": [
    "train_scale"
   ]
  },
  {
   "cell_type": "markdown",
   "id": "b206d1b5",
   "metadata": {},
   "source": [
    "PyTorch membutuhkan data dalam bentuk tensor untuk dimasukkan ke dalam model, selain itu untuk kasus ini kita membutuhkan data dengan tipe float. Selain itu untuk proses selanjutnya, kita perlu membentuk data ke tensor 1D."
   ]
  },
  {
   "cell_type": "code",
   "execution_count": 129,
   "id": "65ccd80e",
   "metadata": {},
   "outputs": [],
   "source": [
    "import torch"
   ]
  },
  {
   "cell_type": "markdown",
   "id": "cbcaf983",
   "metadata": {},
   "source": [
    "### Quick Summary\n",
    "- `torch` adalah library Python yang digunakan untuk melakukan komputasi pada tensor, baik pada CPU maupun GPU. Tensor adalah sebuah struktur data multidimensional yang mirip dengan array pada NumPy, namun dapat dioperasikan pada GPU untuk mempercepat komputasi pada model machine learning.\n",
    "- Library `torch` sangat populer di kalangan peneliti dan praktisi machine learning karena kecepatannya dalam melakukan komputasi pada tensor, serta dukungannya terhadap komputasi pada GPU."
   ]
  },
  {
   "cell_type": "code",
   "execution_count": 130,
   "id": "c4b48c67",
   "metadata": {},
   "outputs": [],
   "source": [
    "# merubah data ke bentuk tensor lalu reshape ke bentuk view(-1)\n",
    "train_tensor = torch.FloatTensor(train_scale).view(-1)\n",
    "test_tensor = torch.FloatTensor(test_scale).view(-1)"
   ]
  },
  {
   "cell_type": "markdown",
   "id": "4d6e8d71",
   "metadata": {},
   "source": [
    "### Quick Summary\n",
    "- `FloatTensor` adalah sebuah class dari library PyTorch yang digunakan untuk membuat tensor dengan tipe data float. Class ini merupakan turunan dari class torch.Tensor yang digunakan untuk membuat tensor dengan tipe data numerik.\n",
    "- `Tensor` adalah sebuah struktur data multidimensional yang mirip dengan array pada NumPy, namun dapat dioperasikan pada GPU untuk mempercepat komputasi pada model machine learning. Tensor float pada PyTorch biasanya digunakan untuk menyimpan bobot dan nilai output pada model machine learning."
   ]
  },
  {
   "cell_type": "code",
   "execution_count": 131,
   "id": "d492df34",
   "metadata": {},
   "outputs": [
    {
     "data": {
      "text/plain": [
       "tensor([-1.7460e+00, -1.7409e+00, -1.7362e+00, -1.7312e+00, -1.7266e+00,\n",
       "        -1.7218e+00, -1.7169e+00, -1.7111e+00, -1.7052e+00, -1.6992e+00,\n",
       "        -1.6958e+00, -1.6886e+00, -1.6836e+00, -1.6790e+00, -1.6748e+00,\n",
       "        -1.6699e+00, -1.6655e+00, -1.6605e+00, -1.6552e+00, -1.6490e+00,\n",
       "        -1.6427e+00, -1.6366e+00, -1.6308e+00, -1.6254e+00, -1.6199e+00,\n",
       "        -1.6147e+00, -1.6097e+00, -1.6044e+00, -1.5994e+00, -1.5941e+00,\n",
       "        -1.5885e+00, -1.5824e+00, -1.5758e+00, -1.5693e+00, -1.5632e+00,\n",
       "        -1.5575e+00, -1.5519e+00, -1.5467e+00, -1.5418e+00, -1.5364e+00,\n",
       "        -1.5314e+00, -1.5260e+00, -1.5204e+00, -1.5143e+00, -1.5077e+00,\n",
       "        -1.5011e+00, -1.4948e+00, -1.4890e+00, -1.4833e+00, -1.4779e+00,\n",
       "        -1.4724e+00, -1.4667e+00, -1.4617e+00, -1.4565e+00, -1.4507e+00,\n",
       "        -1.4440e+00, -1.4370e+00, -1.4302e+00, -1.4235e+00, -1.4176e+00,\n",
       "        -1.4116e+00, -1.4061e+00, -1.4009e+00, -1.3952e+00, -1.3898e+00,\n",
       "        -1.3842e+00, -1.3785e+00, -1.3721e+00, -1.3655e+00, -1.3590e+00,\n",
       "        -1.3530e+00, -1.3477e+00, -1.3422e+00, -1.3372e+00, -1.3325e+00,\n",
       "        -1.3271e+00, -1.3219e+00, -1.3162e+00, -1.3105e+00, -1.3044e+00,\n",
       "        -1.2981e+00, -1.2914e+00, -1.2851e+00, -1.2795e+00, -1.2738e+00,\n",
       "        -1.2683e+00, -1.2631e+00, -1.2574e+00, -1.2523e+00, -1.2470e+00,\n",
       "        -1.2414e+00, -1.2350e+00, -1.2286e+00, -1.2220e+00, -1.2158e+00,\n",
       "        -1.2104e+00, -1.2049e+00, -1.2000e+00, -1.1955e+00, -1.1904e+00,\n",
       "        -1.1853e+00, -1.1801e+00, -1.1748e+00, -1.1684e+00, -1.1615e+00,\n",
       "        -1.1547e+00, -1.1484e+00, -1.1426e+00, -1.1369e+00, -1.1314e+00,\n",
       "        -1.1262e+00, -1.1204e+00, -1.1151e+00, -1.1096e+00, -1.1040e+00,\n",
       "        -1.0977e+00, -1.0910e+00, -1.0844e+00, -1.0784e+00, -1.0729e+00,\n",
       "        -1.0676e+00, -1.0627e+00, -1.0580e+00, -1.0528e+00, -1.0478e+00,\n",
       "        -1.0425e+00, -1.0372e+00, -1.0313e+00, -1.0250e+00, -1.0188e+00,\n",
       "        -1.0129e+00, -1.0077e+00, -1.0026e+00, -9.9793e-01, -9.9385e-01,\n",
       "        -9.8932e-01, -9.8440e-01, -9.7905e-01, -9.7380e-01, -9.6784e-01,\n",
       "        -9.6163e-01, -9.5537e-01, -9.4981e-01, -9.4496e-01, -9.4036e-01,\n",
       "        -9.3591e-01, -9.3148e-01, -9.2683e-01, -9.2210e-01, -9.1696e-01,\n",
       "        -9.1173e-01, -9.0606e-01, -9.0031e-01, -8.9433e-01, -8.8927e-01,\n",
       "        -8.8476e-01, -8.8045e-01, -8.7646e-01, -8.7302e-01, -8.6905e-01,\n",
       "        -8.6486e-01, -8.6019e-01, -8.5512e-01, -8.4985e-01, -8.4439e-01,\n",
       "        -8.3885e-01, -8.3421e-01, -8.3006e-01, -8.2614e-01, -8.2265e-01,\n",
       "        -8.1929e-01, -8.1536e-01, -8.1116e-01, -8.0661e-01, -8.0220e-01,\n",
       "        -7.9746e-01, -7.9226e-01, -7.8703e-01, -7.8255e-01, -7.7847e-01,\n",
       "        -7.7462e-01, -7.7097e-01, -7.6757e-01, -7.6360e-01, -7.5992e-01,\n",
       "        -7.5584e-01, -7.5174e-01, -7.4707e-01, -7.4233e-01, -7.3769e-01,\n",
       "        -7.3331e-01, -7.2958e-01, -7.2604e-01, -7.2341e-01, -7.2022e-01,\n",
       "        -7.1666e-01, -7.1307e-01, -7.0897e-01, -7.0498e-01, -7.0048e-01,\n",
       "        -6.9586e-01, -6.9129e-01, -6.8716e-01, -6.8352e-01, -6.8027e-01,\n",
       "        -6.7743e-01, -6.7410e-01, -6.7086e-01, -6.6688e-01, -6.6275e-01,\n",
       "        -6.5876e-01, -6.5407e-01, -6.4908e-01, -6.4411e-01, -6.3946e-01,\n",
       "        -6.3536e-01, -6.3128e-01, -6.2755e-01, -6.2408e-01, -6.1834e-01,\n",
       "        -6.1351e-01, -6.0828e-01, -6.0307e-01, -5.9737e-01, -5.9163e-01,\n",
       "        -5.8581e-01, -5.8028e-01, -5.7526e-01, -5.6991e-01, -5.6518e-01,\n",
       "        -5.6079e-01, -5.5587e-01, -5.5130e-01, -5.4656e-01, -5.4189e-01,\n",
       "        -5.3673e-01, -5.3127e-01, -5.2585e-01, -5.2093e-01, -5.1659e-01,\n",
       "        -5.1244e-01, -5.0906e-01, -5.0552e-01, -5.0144e-01, -4.9771e-01,\n",
       "        -4.9349e-01, -4.8948e-01, -4.8529e-01, -4.8053e-01, -4.7581e-01,\n",
       "        -4.7166e-01, -4.6779e-01, -4.6395e-01, -4.6078e-01, -4.5764e-01,\n",
       "        -4.5375e-01, -4.5007e-01, -4.4610e-01, -4.4228e-01, -4.3799e-01,\n",
       "        -4.3337e-01, -4.2901e-01, -4.2528e-01, -4.2174e-01, -4.1829e-01,\n",
       "        -4.1496e-01, -4.1175e-01, -4.0823e-01, -4.0467e-01, -4.0061e-01,\n",
       "        -3.9667e-01, -3.9226e-01, -3.8748e-01, -3.8267e-01, -3.7859e-01,\n",
       "        -3.7491e-01, -3.7142e-01, -3.6828e-01, -3.6516e-01, -3.6152e-01,\n",
       "        -3.5754e-01, -3.5179e-01, -3.4698e-01, -3.4178e-01, -3.3713e-01,\n",
       "        -3.3259e-01, -3.2827e-01, -3.2452e-01, -3.2067e-01, -3.1706e-01,\n",
       "        -3.1397e-01, -3.1052e-01, -3.0684e-01, -3.0271e-01, -2.9863e-01,\n",
       "        -2.9399e-01, -2.8913e-01, -2.8435e-01, -2.7990e-01, -2.7586e-01,\n",
       "        -2.7181e-01, -2.6794e-01, -2.6418e-01, -2.5996e-01, -2.5586e-01,\n",
       "        -2.5148e-01, -2.4695e-01, -2.4181e-01, -2.3642e-01, -2.3136e-01,\n",
       "        -2.2655e-01, -2.2200e-01, -2.1792e-01, -2.1436e-01, -2.1053e-01,\n",
       "        -2.0587e-01, -2.0153e-01, -1.9677e-01, -1.9194e-01, -1.8678e-01,\n",
       "        -1.8096e-01, -1.7585e-01, -1.7102e-01, -1.6650e-01, -1.6192e-01,\n",
       "        -1.5751e-01, -1.5325e-01, -1.4849e-01, -1.4394e-01, -1.3899e-01,\n",
       "        -1.3402e-01, -1.2839e-01, -1.2248e-01, -1.1653e-01, -1.1123e-01,\n",
       "        -1.0616e-01, -1.0128e-01, -9.6477e-02, -9.1951e-02, -8.6980e-02,\n",
       "        -8.2525e-02, -7.6170e-02, -7.1386e-02, -6.6063e-02, -6.0600e-02,\n",
       "        -5.5183e-02, -5.0610e-02, -4.6694e-02, -4.2989e-02, -3.9847e-02,\n",
       "        -3.6260e-02, -3.2062e-02, -2.8029e-02, -2.3667e-02, -1.8860e-02,\n",
       "        -1.3678e-02, -8.4020e-03, -3.0322e-03,  1.2121e-03,  5.1281e-03,\n",
       "         9.0676e-03,  1.2726e-02,  1.6407e-02,  2.0511e-02,  2.4356e-02,\n",
       "         2.8648e-02,  3.3244e-02,  3.8027e-02,  4.2881e-02,  4.7970e-02,\n",
       "         5.2120e-02,  5.6036e-02,  5.9835e-02,  6.3376e-02,  6.6658e-02,\n",
       "         7.0598e-02,  7.3904e-02,  7.8500e-02,  8.2932e-02,  8.7481e-02,\n",
       "         9.2171e-02,  9.7002e-02,  1.0101e-01,  1.0469e-01,  1.0821e-01,\n",
       "         1.1154e-01,  1.1501e-01,  1.1886e-01,  1.2247e-01,  1.2638e-01,\n",
       "         1.3079e-01,  1.3551e-01,  1.4045e-01,  1.4552e-01,  1.4981e-01,\n",
       "         1.5349e-01,  1.5705e-01,  1.6020e-01,  1.6325e-01,  1.6718e-01,\n",
       "         1.7126e-01,  1.7586e-01,  1.8046e-01,  1.8545e-01,  1.9059e-01,\n",
       "         1.9563e-01,  2.0018e-01,  2.0416e-01,  2.0794e-01,  2.1146e-01,\n",
       "         2.1474e-01,  2.1863e-01,  2.2278e-01,  2.2719e-01,  2.3169e-01,\n",
       "         2.3645e-01,  2.4147e-01,  2.4630e-01,  2.5083e-01,  2.5442e-01,\n",
       "         2.5826e-01,  2.6168e-01,  2.6518e-01,  2.6924e-01,  2.7324e-01,\n",
       "         2.7758e-01,  2.8218e-01,  2.8706e-01,  2.9200e-01,  2.9723e-01,\n",
       "         3.0176e-01,  3.0575e-01,  3.0978e-01,  3.1330e-01,  3.1677e-01,\n",
       "         3.2066e-01,  3.2453e-01,  3.2912e-01,  3.3417e-01,  3.3930e-01,\n",
       "         3.4455e-01,  3.4992e-01,  3.5440e-01,  3.5844e-01,  3.6237e-01,\n",
       "         3.6599e-01,  3.6955e-01,  3.7403e-01,  3.7837e-01,  3.8324e-01,\n",
       "         3.8859e-01,  3.9401e-01,  3.9971e-01,  4.0559e-01,  4.1061e-01,\n",
       "         4.1525e-01,  4.1947e-01,  4.2341e-01,  4.2775e-01,  4.3464e-01,\n",
       "         4.4072e-01,  4.4738e-01,  4.5401e-01,  4.6121e-01,  4.6853e-01,\n",
       "         4.7570e-01,  4.8248e-01,  4.8905e-01,  4.9521e-01,  5.0098e-01,\n",
       "         5.0654e-01,  5.1289e-01,  5.1923e-01,  5.2612e-01,  5.3283e-01,\n",
       "         5.4019e-01,  5.4767e-01,  5.5492e-01,  5.6155e-01,  5.6732e-01,\n",
       "         5.7318e-01,  5.7867e-01,  5.8465e-01,  5.9143e-01,  5.9830e-01,\n",
       "         6.0542e-01,  6.1258e-01,  6.2050e-01,  6.2791e-01,  6.3525e-01,\n",
       "         6.4196e-01,  6.4820e-01,  6.5443e-01,  6.6006e-01,  6.6552e-01,\n",
       "         6.7167e-01,  6.7791e-01,  6.8454e-01,  6.9139e-01,  6.9868e-01,\n",
       "         7.0574e-01,  7.1268e-01,  7.1882e-01,  7.2466e-01,  7.3041e-01,\n",
       "         7.3519e-01,  7.4056e-01,  7.4710e-01,  7.5287e-01,  7.5932e-01,\n",
       "         7.6598e-01,  7.7273e-01,  7.7960e-01,  7.8626e-01,  7.9231e-01,\n",
       "         7.9806e-01,  8.0369e-01,  8.0899e-01,  8.1426e-01,  8.2036e-01,\n",
       "         8.2606e-01,  8.3244e-01,  8.3917e-01,  8.4587e-01,  8.5312e-01,\n",
       "         8.6025e-01,  8.6632e-01,  8.7167e-01,  8.7654e-01,  8.8154e-01,\n",
       "         8.8695e-01,  8.9300e-01,  8.9898e-01,  9.0550e-01,  9.1209e-01,\n",
       "         9.1934e-01,  9.2656e-01,  9.3352e-01,  9.4049e-01,  9.4628e-01,\n",
       "         9.5179e-01,  9.5707e-01,  9.6260e-01,  9.6874e-01,  9.7482e-01,\n",
       "         9.8138e-01,  9.8818e-01,  9.9580e-01,  1.0032e+00,  1.0102e+00,\n",
       "         1.0167e+00,  1.0224e+00,  1.0284e+00,  1.0333e+00,  1.0382e+00,\n",
       "         1.0443e+00,  1.0504e+00,  1.0567e+00,  1.0633e+00,  1.0704e+00,\n",
       "         1.0773e+00,  1.0841e+00,  1.0905e+00,  1.0964e+00,  1.1026e+00,\n",
       "         1.1073e+00,  1.1121e+00,  1.1181e+00,  1.1243e+00,  1.1310e+00,\n",
       "         1.1379e+00,  1.1451e+00,  1.1521e+00,  1.1592e+00,  1.1654e+00,\n",
       "         1.1712e+00,  1.1773e+00,  1.1823e+00,  1.1874e+00,  1.1932e+00,\n",
       "         1.1984e+00,  1.2042e+00,  1.2103e+00,  1.2166e+00,  1.2231e+00,\n",
       "         1.2295e+00,  1.2354e+00,  1.2411e+00,  1.2463e+00,  1.2514e+00,\n",
       "         1.2564e+00,  1.2618e+00,  1.2672e+00,  1.2731e+00,  1.2789e+00,\n",
       "         1.2850e+00,  1.2914e+00,  1.2974e+00,  1.3031e+00,  1.3085e+00,\n",
       "         1.3136e+00,  1.3184e+00,  1.3230e+00,  1.3278e+00,  1.3331e+00,\n",
       "         1.3388e+00,  1.3444e+00,  1.3504e+00,  1.3565e+00,  1.3624e+00,\n",
       "         1.3679e+00,  1.3728e+00,  1.3776e+00,  1.3822e+00,  1.3868e+00,\n",
       "         1.3918e+00,  1.3970e+00,  1.4026e+00,  1.4081e+00,  1.4140e+00,\n",
       "         1.4199e+00,  1.4258e+00,  1.4313e+00,  1.4360e+00,  1.4403e+00,\n",
       "         1.4444e+00,  1.4489e+00,  1.4540e+00,  1.4592e+00,  1.4645e+00,\n",
       "         1.4701e+00,  1.4761e+00,  1.4820e+00,  1.4881e+00,  1.4936e+00,\n",
       "         1.4990e+00,  1.5041e+00,  1.5086e+00,  1.5129e+00,  1.5176e+00,\n",
       "         1.5226e+00,  1.5281e+00,  1.5339e+00,  1.5399e+00,  1.5462e+00,\n",
       "         1.5524e+00,  1.5579e+00,  1.5631e+00,  1.5682e+00,  1.5731e+00,\n",
       "         1.5779e+00,  1.5831e+00,  1.5881e+00,  1.5938e+00,  1.5998e+00,\n",
       "         1.6061e+00,  1.6129e+00,  1.6195e+00,  1.6256e+00,  1.6313e+00,\n",
       "         1.6368e+00,  1.6422e+00,  1.6473e+00,  1.6528e+00,  1.6581e+00,\n",
       "         1.6642e+00,  1.6704e+00,  1.6765e+00,  1.6831e+00,  1.6892e+00,\n",
       "         1.6950e+00,  1.7004e+00,  1.7056e+00,  1.7104e+00,  1.7150e+00,\n",
       "         1.7199e+00,  1.7247e+00,  1.7302e+00,  1.7359e+00,  1.7417e+00,\n",
       "         1.7479e+00,  1.7536e+00,  1.7590e+00,  1.7642e+00,  1.7689e+00,\n",
       "         1.7735e+00,  1.7779e+00,  1.7825e+00,  1.7871e+00,  1.7923e+00,\n",
       "         1.7978e+00,  1.8036e+00,  1.8097e+00,  1.8154e+00,  1.8208e+00,\n",
       "         1.8258e+00])"
      ]
     },
     "execution_count": 131,
     "metadata": {},
     "output_type": "execute_result"
    }
   ],
   "source": [
    "train_tensor"
   ]
  },
  {
   "cell_type": "code",
   "execution_count": 132,
   "id": "c674a576",
   "metadata": {},
   "outputs": [
    {
     "data": {
      "text/plain": [
       "tensor([-1.7460, -1.7409, -1.7362, -1.7312, -1.7266, -1.7218, -1.7169, -1.7111,\n",
       "        -1.7052, -1.6992, -1.6958, -1.6886, -1.6836, -1.6790, -1.6748, -1.6699,\n",
       "        -1.6655, -1.6605, -1.6552, -1.6490])"
      ]
     },
     "execution_count": 132,
     "metadata": {},
     "output_type": "execute_result"
    }
   ],
   "source": [
    "train_tensor[:20]"
   ]
  },
  {
   "cell_type": "markdown",
   "id": "7f66aa15",
   "metadata": {},
   "source": [
    "Karena RNN memanfaatkan informasi sequential dari data kita, kita perlu memecah bentuknya menjadi kelompok-kelompok data. Hal ini akan kita lakukan menggunakan fungsi custom di bawah ini. "
   ]
  },
  {
   "cell_type": "code",
   "execution_count": 133,
   "id": "fa3b3b2c",
   "metadata": {},
   "outputs": [],
   "source": [
    "# function for making sequential data\n",
    "def input_data(data, seq_size):\n",
    "    out = []\n",
    "    length = len(data)\n",
    "    \n",
    "    for i in range(length-seq_size):\n",
    "        feature = data[i : i+seq_size]\n",
    "        target = data[i+seq_size : i+seq_size+1]\n",
    "        out.append((feature, target))\n",
    "    \n",
    "    return out"
   ]
  },
  {
   "cell_type": "markdown",
   "id": "14a129d0",
   "metadata": {},
   "source": [
    "Jika dianalogikan sederhana, maka bentuk yang kita harapkan adalah seperti berikut:"
   ]
  },
  {
   "cell_type": "code",
   "execution_count": 134,
   "id": "412830a9",
   "metadata": {},
   "outputs": [],
   "source": [
    "# sebagai input di fungsi input_data\n",
    "seq_size = 12\n",
    "\n",
    "# apply fungsi custom ke data train dan test\n",
    "train_dataset = input_data(train_tensor, seq_size)\n",
    "test_dataset = input_data(test_tensor, seq_size)"
   ]
  },
  {
   "cell_type": "code",
   "execution_count": 135,
   "id": "baeea1d5",
   "metadata": {},
   "outputs": [
    {
     "data": {
      "text/plain": [
       "[(tensor([-1.7460, -1.7409, -1.7362, -1.7312, -1.7266, -1.7218, -1.7169, -1.7111,\n",
       "          -1.7052, -1.6992, -1.6958, -1.6886]),\n",
       "  tensor([-1.6836])),\n",
       " (tensor([-1.7409, -1.7362, -1.7312, -1.7266, -1.7218, -1.7169, -1.7111, -1.7052,\n",
       "          -1.6992, -1.6958, -1.6886, -1.6836]),\n",
       "  tensor([-1.6790]))]"
      ]
     },
     "execution_count": 135,
     "metadata": {},
     "output_type": "execute_result"
    }
   ],
   "source": [
    "train_dataset[:2]"
   ]
  },
  {
   "cell_type": "markdown",
   "id": "7ba4bb1d",
   "metadata": {},
   "source": [
    "Dari proses di atas, kita telah membuat data dengan bentuk feature dan label/target secara berpasangan. Data ini akan kita jadikan bentuk DataLoader yang nantinya akan menjadi input dari model PyTorch kita. Pada kasus ini ada beberapa parameter DataLoader yang harus kita tentukan:\n",
    "\n",
    "- dataset: data yang sudah diproses sebelumnya, dapat juga berupa PyTorch Dataset\n",
    "- batch_size: ukuran minibatch yang ingin digunakan\n",
    "- shuffle: pastikan bernilai False karena kasus time series"
   ]
  },
  {
   "cell_type": "code",
   "execution_count": 136,
   "id": "84c53be6",
   "metadata": {},
   "outputs": [],
   "source": [
    "from torch.utils.data import DataLoader"
   ]
  },
  {
   "cell_type": "markdown",
   "id": "0a739cb1",
   "metadata": {},
   "source": [
    "### Quick Summary\n",
    "- `DataLoader` adalah sebuah class dari library PyTorch yang digunakan untuk memuat data dalam batch pada saat pelatihan model machine learning. Class ini memudahkan proses memuat dan memproses data secara otomatis dalam batch, sehingga mempercepat proses pelatihan model.\n",
    "- `DataLoader` biasanya digunakan bersamaan dengan class Dataset dari PyTorch, yang digunakan untuk menampung data. Class Dataset memungkinkan kita untuk mengakses data secara mudah dan fleksibel, serta dapat melakukan transformasi data seperti augmentasi gambar, normalisasi, dan sebagainya."
   ]
  },
  {
   "cell_type": "code",
   "execution_count": 137,
   "id": "5af21351",
   "metadata": {},
   "outputs": [],
   "source": [
    "# setting batch size\n",
    "bs = 9\n",
    "\n",
    "# buat DataLoader untuk data train dan test\n",
    "train_loader = DataLoader(train_dataset, batch_size=bs, shuffle=False)\n",
    "test_loader = DataLoader(test_dataset, batch_size=bs, shuffle=False)"
   ]
  },
  {
   "cell_type": "code",
   "execution_count": 138,
   "id": "b384fa3e",
   "metadata": {},
   "outputs": [
    {
     "data": {
      "text/plain": [
       "(tensor([-1.7460, -1.7409, -1.7362, -1.7312, -1.7266, -1.7218, -1.7169, -1.7111,\n",
       "         -1.7052, -1.6992, -1.6958, -1.6886]),\n",
       " tensor([-1.6836]))"
      ]
     },
     "execution_count": 138,
     "metadata": {},
     "output_type": "execute_result"
    }
   ],
   "source": [
    "train_loader.dataset[0]"
   ]
  },
  {
   "cell_type": "markdown",
   "id": "764db4a5",
   "metadata": {},
   "source": [
    "Langkah-langkah persiapan data di PyTorch pada kasus ini:\n",
    "- siapkan data time series\n",
    "- bersihkan data dan dibuat berurutan\n",
    "- pisahkan data train dan data test\n",
    "- lakukan scaling menggunakan informasi dari data train\n",
    "- ubah ke bentuk tensor\n",
    "- buat PyTorch Dataset\n",
    "- buat PyTorch DataLoader"
   ]
  },
  {
   "cell_type": "markdown",
   "id": "39b7ab00",
   "metadata": {},
   "source": [
    "#### Pembuatan Arsitektur\n",
    "\n",
    "Data yang akan digunakan pada model sudah selesai dibentuk, sekarang saatnya kita membangun arsitektur pada RNN yang akan digunakan. Pada bagian ini kita akan membangun class dengan nama RNN yang isinya mengambil beberapa informasi dari module yang disediakan PyTorch. Module ini dapat diakses melalui `nn.Module`. Oleh karena itu kita panggil `nn` dahulu menggunakan syntax di bawah ini."
   ]
  },
  {
   "cell_type": "code",
   "execution_count": 139,
   "id": "00932df8",
   "metadata": {},
   "outputs": [],
   "source": [
    "from torch import nn"
   ]
  },
  {
   "cell_type": "code",
   "execution_count": 140,
   "id": "0297a3c2",
   "metadata": {},
   "outputs": [],
   "source": [
    "class RNN(nn.Module):\n",
    "    def __init__(self, input_size, output_size, hidden_size, num_layers):\n",
    "        super().__init__()\n",
    "        self.rnn = nn.RNN(\n",
    "            input_size = input_size,\n",
    "            hidden_size = hidden_size,\n",
    "            num_layers = num_layers\n",
    "        ) # RNN block\n",
    "        self.fc = nn.Linear(\n",
    "            in_features = hidden_size,\n",
    "            out_features = output_size\n",
    "        ) # fully connected layer\n",
    "        \n",
    "    def forward(self, x, hidden): # langkah feedforward\n",
    "        x, hidden = self.rnn(x, hidden)\n",
    "        x = self.fc(x)\n",
    "        \n",
    "        return x, hidden"
   ]
  },
  {
   "cell_type": "markdown",
   "id": "0b12208f",
   "metadata": {},
   "source": [
    "#### Persiapan training\n",
    "\n",
    "Dari class yang sudah dibentuk, terdapat beberapa input yang harus dimasukkan. Agar input terdokumentasi dengan baik maka sebaiknya kita simpan konfigurasinya ke dalam sebuah dictionary."
   ]
  },
  {
   "cell_type": "markdown",
   "id": "c71d711b",
   "metadata": {},
   "source": [
    "### Quick Summary\n",
    "- `seq_size` dapat merujuk pada ukuran panjang (length) dari sebuah sequence (urutan) data. Istilah ini seringkali digunakan dalam konteks pengolahan bahasa alami (natural language processing) atau pemrosesan sequence data lainnya seperti dalam jaringan saraf rekursif (RNN), di mana data masukan dianggap sebagai sequence atau urutan data."
   ]
  },
  {
   "cell_type": "code",
   "execution_count": 141,
   "id": "eccfe100",
   "metadata": {},
   "outputs": [
    {
     "data": {
      "text/plain": [
       "12"
      ]
     },
     "execution_count": 141,
     "metadata": {},
     "output_type": "execute_result"
    }
   ],
   "source": [
    "seq_size"
   ]
  },
  {
   "cell_type": "code",
   "execution_count": 142,
   "id": "3f73857b",
   "metadata": {},
   "outputs": [],
   "source": [
    "config = {\n",
    "    \"input_size\": seq_size, \n",
    "    \"output_size\": 1, \n",
    "    \"hidden_size\": 64, \n",
    "    \"num_layers\": 2\n",
    "}"
   ]
  },
  {
   "cell_type": "markdown",
   "id": "7cff0527",
   "metadata": {},
   "source": [
    "Setelah menyiapkan konfigurasi, kita akan memasukkan setting yang sudah dilakukan ke dalam model."
   ]
  },
  {
   "cell_type": "code",
   "execution_count": 143,
   "id": "a2a6c841",
   "metadata": {},
   "outputs": [],
   "source": [
    "# kunci randomness awal\n",
    "torch.manual_seed(2102)\n",
    "\n",
    "# buat model dan masukan konfigurasi\n",
    "model = RNN(\n",
    "    input_size = config[\"input_size\"], \n",
    "    output_size = config[\"output_size\"], \n",
    "    hidden_size = config[\"hidden_size\"], \n",
    "    num_layers = config[\"num_layers\"]\n",
    ")"
   ]
  },
  {
   "cell_type": "markdown",
   "id": "7fad518b",
   "metadata": {},
   "source": [
    "Sifat model RNN sama seperti model Neural Network biasa, yaitu setelah model melakukan feedforward maka perlu dihitung loss-nya. Pada bagian ini kita akan menentukan perhitungan loss yang digunakan adalah `MSELoss()` dari `nn` yang merupakan perhitungan **Mean Squared Error** karena data target kita berupa angka. Dokumentasi lengkap terkait loss function pada PyTorch dapat dilihat melalui [link ini](https://pytorch.org/docs/stable/nn.html#loss-functions)."
   ]
  },
  {
   "cell_type": "code",
   "execution_count": 144,
   "id": "e6cc8f3a",
   "metadata": {},
   "outputs": [],
   "source": [
    "criterion = nn.MSELoss()"
   ]
  },
  {
   "cell_type": "markdown",
   "id": "4818f3b3",
   "metadata": {},
   "source": [
    "Setelah menentukan loss function yang digunakan, kita akan melakukan setting backpropagation dengan metode Stochastic Gradient Descent yang merupakan lanjutan dari metode Gradient Descent normal. Method untuk melakukkan setting ini terdapat pada module `optim` dari `torch`. Untuk mengakses optimizer Stochastic Gradient Descent kita akan menggunakan `optim.SGD()` dimana paramter yang perlu dimasukkan yaitu:\n",
    "- `params`: parameter pada model, lebih mudahnya kita tinggal menuliskan `model.parameters()` yaitu mengambil nilai yang sudah kita siapkan di atas\n",
    "- `lr`: learning rate"
   ]
  },
  {
   "cell_type": "code",
   "execution_count": 145,
   "id": "56ab041a",
   "metadata": {},
   "outputs": [],
   "source": [
    "from torch import optim"
   ]
  },
  {
   "cell_type": "markdown",
   "id": "1ed4e988",
   "metadata": {},
   "source": [
    "### Quick Summary\n",
    "- `optim` adalah sebuah modul dalam library PyTorch yang menyediakan implementasi berbagai algoritma optimasi untuk digunakan dalam pelatihan model machine learning. Modul optim menyediakan implementasi dari berbagai algoritma optimasi populer, seperti stochastic gradient descent (SGD), Adam, RMSprop, dan sebagainya.\n",
    "- `optim.SGD` adalah salah satu algoritma optimasi yang disediakan oleh modul optim dalam library PyTorch. SGD adalah singkatan dari Stochastic Gradient Descent, yang merupakan salah satu algoritma optimasi paling sederhana dan paling populer yang digunakan dalam pelatihan model machine learning."
   ]
  },
  {
   "cell_type": "code",
   "execution_count": 146,
   "id": "5707e6aa",
   "metadata": {},
   "outputs": [],
   "source": [
    "optimizer = optim.SGD(params = model.parameters(), lr = 0.002)"
   ]
  },
  {
   "cell_type": "code",
   "execution_count": 147,
   "id": "57b7679a",
   "metadata": {},
   "outputs": [
    {
     "data": {
      "text/plain": [
       "<bound method Module.parameters of RNN(\n",
       "  (rnn): RNN(12, 64, num_layers=2)\n",
       "  (fc): Linear(in_features=64, out_features=1, bias=True)\n",
       ")>"
      ]
     },
     "execution_count": 147,
     "metadata": {},
     "output_type": "execute_result"
    }
   ],
   "source": [
    "model.parameters"
   ]
  },
  {
   "cell_type": "markdown",
   "id": "d59db954",
   "metadata": {},
   "source": [
    "#### Training and Evaluation Loop\n",
    "\n",
    "Jika dilihat pada proses pembuatan model, kita tidak menentukan epoch atau jumlah iterasi yang kita inginkan padahal kasus Neural Network bergantung pada jumlah iterasi. Hal ini karena pada PyTorch kita harus menentukan sendiri fungsi looping untuk proses training maupun evaluasinya.\n"
   ]
  },
  {
   "cell_type": "code",
   "execution_count": 148,
   "id": "54f06493",
   "metadata": {},
   "outputs": [
    {
     "data": {
      "text/plain": [
       "(tensor([-1.7460, -1.7409, -1.7362, -1.7312, -1.7266, -1.7218, -1.7169, -1.7111,\n",
       "         -1.7052, -1.6992, -1.6958, -1.6886]),\n",
       " tensor([-1.6836]))"
      ]
     },
     "execution_count": 148,
     "metadata": {},
     "output_type": "execute_result"
    }
   ],
   "source": [
    "train_loader.dataset[0]"
   ]
  },
  {
   "cell_type": "code",
   "execution_count": 149,
   "id": "948eb269",
   "metadata": {},
   "outputs": [],
   "source": [
    "device = \"gpu\" if torch.cuda.is_available() else \"cpu\""
   ]
  },
  {
   "cell_type": "code",
   "execution_count": 150,
   "id": "fc6f87e2",
   "metadata": {},
   "outputs": [
    {
     "data": {
      "text/plain": [
       "'cpu'"
      ]
     },
     "execution_count": 150,
     "metadata": {},
     "output_type": "execute_result"
    }
   ],
   "source": [
    "device"
   ]
  },
  {
   "cell_type": "code",
   "execution_count": 151,
   "id": "f031bea6",
   "metadata": {},
   "outputs": [
    {
     "name": "stdout",
     "output_type": "stream",
     "text": [
      "Epoch: 30/30 | train_cost: 0.002806 | test_cost: 0.054771 "
     ]
    }
   ],
   "source": [
    "epochs = 30\n",
    "train_cost, test_cost = [], []\n",
    "\n",
    "for i in range(epochs):\n",
    "    # training\n",
    "    model.train()\n",
    "    cost = 0\n",
    "    for feature, target in train_loader: # iterasi untuk minibatch\n",
    "        # feedforward\n",
    "        output, hidden = model.forward(feature, None)\n",
    "        # hitung loss\n",
    "        loss = criterion(output, target)\n",
    "        # backpropagation\n",
    "        loss.backward()\n",
    "        # update weight\n",
    "        optimizer.step()\n",
    "        # reset optimizer (kasus khusus pada pytorch)\n",
    "        optimizer.zero_grad()\n",
    "        \n",
    "        # perhitungan loss total per minibatch (dikali jumlah data agar bisa dibagi dengan total data di akhir)\n",
    "        cost += loss.item() * feature.shape[0] \n",
    "        # .item() buat ambil skalar nilai \n",
    "    train_cost.append(cost / len(train_dataset)) # cost (MSE) per epoch dicatat\n",
    "    \n",
    "    # evaluasi\n",
    "    with torch.no_grad(): # memastikan tidak terjadi perhitungan gradient\n",
    "        model.eval()\n",
    "        cost = 0\n",
    "        for feature, target in test_loader:\n",
    "            # feedforward\n",
    "            output, hidden = model.forward(feature, None)\n",
    "            # hitung loss sebagai pembanding\n",
    "            loss = criterion(output, target)\n",
    "            # data test ga backpropagation dan update weight nanti leakage\n",
    "            \n",
    "            # perhitungan loss total per minibatch (dikali jumlah data agar bisa dibagi dengan rata2)\n",
    "            cost += loss.item() * feature.shape[0]\n",
    "        test_cost.append(cost / len(test_dataset)) # cost (MSE) per epoch dicatat\n",
    "\n",
    "    print(f'\\rEpoch: {i+1}/{epochs} | train_cost: {train_cost[-1]:4f} | test_cost: {test_cost[-1]:4f}', end=' ')"
   ]
  },
  {
   "cell_type": "markdown",
   "id": "9f2946ae",
   "metadata": {},
   "source": [
    "Setelah training selesai, kita dapat melihat hasil evaluasi dengan melakukan plot loss data train dengan data test."
   ]
  },
  {
   "cell_type": "code",
   "execution_count": 152,
   "id": "1f6ea888",
   "metadata": {},
   "outputs": [
    {
     "data": {
      "text/plain": [
       "<matplotlib.legend.Legend at 0x1972a46e5c0>"
      ]
     },
     "execution_count": 152,
     "metadata": {},
     "output_type": "execute_result"
    },
    {
     "data": {
      "image/png": "[encoded data removed]",
      "text/plain": [
       "<Figure size 640x480 with 1 Axes>"
      ]
     },
     "metadata": {},
     "output_type": "display_data"
    }
   ],
   "source": [
    "plt.plot(train_cost, label = \"train\")\n",
    "plt.plot(test_cost, label = \"test\")\n",
    "\n",
    "plt.xlabel(\"epoch\")\n",
    "plt.ylabel(\"cost\")\n",
    "plt.legend()"
   ]
  },
  {
   "cell_type": "markdown",
   "id": "1fce0931",
   "metadata": {},
   "source": [
    "#### Prediction/Forecast\n",
    "\n",
    "Dari hasil training, kita akan melakukan prediksi untuk waktu yang akan datang."
   ]
  },
  {
   "cell_type": "code",
   "execution_count": 153,
   "id": "911e7a23",
   "metadata": {},
   "outputs": [
    {
     "data": {
      "text/plain": [
       "(tensor([2.2874, 2.2909, 2.2943, 2.2974, 2.3008, 2.3045, 2.3084, 2.3127, 2.3173,\n",
       "         2.3218, 2.3264, 2.3305]),\n",
       " tensor([2.3341]))"
      ]
     },
     "execution_count": 153,
     "metadata": {},
     "output_type": "execute_result"
    }
   ],
   "source": [
    "test_loader.dataset[-1]"
   ]
  },
  {
   "cell_type": "code",
   "execution_count": 154,
   "id": "bd361a18",
   "metadata": {},
   "outputs": [
    {
     "data": {
      "text/plain": [
       "2"
      ]
     },
     "execution_count": 154,
     "metadata": {},
     "output_type": "execute_result"
    }
   ],
   "source": [
    "1080%7"
   ]
  },
  {
   "cell_type": "code",
   "execution_count": 155,
   "id": "afb153c7",
   "metadata": {},
   "outputs": [],
   "source": [
    "preds, targets = [], []\n",
    "hidden = None\n",
    "last_inputs = None\n",
    "\n",
    "month = 120 # jumlah bulan yang akan diprediksi\n",
    "\n",
    "with torch.no_grad():\n",
    "    model.eval() \n",
    "    for inputs, target in test_loader: \n",
    "        output, hidden = model(inputs, hidden)\n",
    "        preds += output.flatten().tolist()\n",
    "        targets += target.flatten().tolist()\n",
    "        last_inputs = inputs\n",
    "\n",
    "    n_forecast = int(np.ceil(month/len(last_inputs))) # karena menggunakan minibatch, maka jumlah iterasi menyesuaikan\n",
    "\n",
    "    for i in range(int(n_forecast)):\n",
    "        # take last prediction result for new input\n",
    "        pred_inputs = (last_inputs[-1][1:]).tolist()\n",
    "        pred_inputs.append(preds[-1])\n",
    "        \n",
    "        # create new input format for models\n",
    "        forecast_inputs = last_inputs[1:].tolist()\n",
    "        forecast_inputs.append(pred_inputs)\n",
    "        forecast_inputs = torch.tensor(forecast_inputs)\n",
    "        \n",
    "        # forecast and saving the result\n",
    "        output, hidden = model(forecast_inputs, hidden)\n",
    "        last_inputs = forecast_inputs\n",
    "        preds += output.flatten().tolist()\n",
    "\n",
    "# inverse the result since we use scaling on our data\n",
    "preds = scaler.inverse_transform(pd.DataFrame(preds))\n",
    "targets = scaler.inverse_transform(pd.DataFrame(targets))"
   ]
  },
  {
   "cell_type": "code",
   "execution_count": 156,
   "id": "f15dcc52",
   "metadata": {},
   "outputs": [
    {
     "data": {
      "image/png": "[encoded data removed]",
      "text/plain": [
       "<Figure size 1500x500 with 1 Axes>"
      ]
     },
     "metadata": {},
     "output_type": "display_data"
    }
   ],
   "source": [
    "# Plot the predicted and actual values\n",
    "plt.figure(figsize=(15,5))\n",
    "plt.plot(targets, label='Actual')\n",
    "plt.plot(preds, label='Predicted')\n",
    "\n",
    "plt.axvline(len(test_dataset), color='k', linestyle=\"--\", linewidth=1)\n",
    "plt.axvline(len(test_dataset) + n_forecast*len(last_inputs), color='k', linestyle=\"--\", linewidth=1)\n",
    "\n",
    "plt.legend()\n",
    "plt.show()"
   ]
  },
  {
   "cell_type": "markdown",
   "id": "580679fd",
   "metadata": {},
   "source": [
    "#### Save Model\n",
    "\n",
    "Pada model deep learning, informasi yang akan disimpan ke dalam model adalah weight dari hidden layer pada epoch terakhir. Informasi weight ini dapat dilihat menggunakan method `.state_dict()` pada model kita. Setelah itu kita save menggunakan `torch.save()`."
   ]
  },
  {
   "cell_type": "code",
   "execution_count": 157,
   "id": "8b47e1d4",
   "metadata": {},
   "outputs": [
    {
     "data": {
      "text/plain": [
       "OrderedDict([('rnn.weight_ih_l0',\n",
       "              tensor([[ 0.0437,  0.0939, -0.0163,  0.1199, -0.0208,  0.1206, -0.1029, -0.1185,\n",
       "                        0.0125,  0.0994,  0.0745, -0.0343],\n",
       "                      [ 0.0615,  0.1224,  0.0651,  0.1121,  0.0006,  0.0252,  0.0116,  0.0077,\n",
       "                        0.0129,  0.0362,  0.1144, -0.0868],\n",
       "                      [-0.0332,  0.0731, -0.1189,  0.0233,  0.0058, -0.0914, -0.0394,  0.0277,\n",
       "                        0.0073,  0.1179,  0.0153,  0.0913],\n",
       "                      [ 0.1048, -0.0939,  0.0244,  0.1268, -0.0831, -0.0134,  0.0625,  0.0405,\n",
       "                        0.0811, -0.1063, -0.0794,  0.0566],\n",
       "                      [ 0.0129, -0.0312, -0.0199,  0.0215, -0.0271, -0.0828, -0.0047,  0.0351,\n",
       "                        0.0486,  0.0502, -0.0114, -0.0592],\n",
       "                      [ 0.0040, -0.0464, -0.0884, -0.0749,  0.0458,  0.0635, -0.0632, -0.0004,\n",
       "                       -0.0211,  0.0750, -0.1084, -0.0078],\n",
       "                      [-0.0297, -0.0654, -0.0280, -0.1291, -0.1278, -0.0567,  0.1055,  0.0249,\n",
       "                        0.0194, -0.0601, -0.0515, -0.1114],\n",
       "                      [ 0.0294, -0.0432, -0.1062, -0.0592,  0.0103, -0.0304,  0.0006,  0.0017,\n",
       "                       -0.1002, -0.0371, -0.0391, -0.0472],\n",
       "                      [-0.0003,  0.0702, -0.0734, -0.0979,  0.0872, -0.0699,  0.1034,  0.0865,\n",
       "                       -0.1210,  0.0898,  0.1067,  0.0410],\n",
       "                      [-0.0688, -0.0295, -0.0141, -0.0374, -0.0072,  0.0825,  0.0680,  0.0566,\n",
       "                        0.0720, -0.0703,  0.0304, -0.0844],\n",
       "                      [ 0.1168, -0.0259,  0.0901, -0.0488,  0.0999,  0.0789, -0.0120,  0.0190,\n",
       "                        0.0027, -0.0618,  0.1217, -0.0274],\n",
       "                      [ 0.0013, -0.1221,  0.0431,  0.0400, -0.1058, -0.0141,  0.0304, -0.0159,\n",
       "                       -0.0199, -0.0471, -0.0061, -0.0472],\n",
       "                      [-0.0655, -0.0368, -0.0216, -0.0465,  0.0817, -0.0973, -0.0769, -0.0771,\n",
       "                       -0.0464, -0.0726, -0.0106,  0.0831],\n",
       "                      [ 0.0156,  0.1096,  0.1169,  0.1295, -0.0061, -0.0352, -0.1022, -0.0066,\n",
       "                       -0.0425, -0.0914, -0.0539,  0.0743],\n",
       "                      [ 0.1077, -0.0507, -0.0513,  0.0629,  0.1036,  0.1179,  0.0226, -0.1104,\n",
       "                        0.0145,  0.1161, -0.0603,  0.0922],\n",
       "                      [-0.0197, -0.1083,  0.0958, -0.0612, -0.1060,  0.0299,  0.0865, -0.0515,\n",
       "                        0.0426, -0.0310, -0.0949, -0.0642],\n",
       "                      [-0.0687,  0.0498, -0.0959,  0.0160, -0.0125,  0.1171, -0.0425,  0.1111,\n",
       "                        0.0601, -0.0451,  0.0338,  0.0435],\n",
       "                      [-0.0032, -0.1035, -0.0476, -0.1302, -0.0545,  0.0307,  0.0509, -0.0516,\n",
       "                        0.0799,  0.0762,  0.0713, -0.0838],\n",
       "                      [ 0.1248,  0.0194,  0.0793, -0.0270,  0.1197,  0.1218, -0.0174, -0.0146,\n",
       "                        0.0888, -0.0835,  0.0382, -0.0877],\n",
       "                      [ 0.0888, -0.1112,  0.0157, -0.0609, -0.1036, -0.0298, -0.1052, -0.0937,\n",
       "                       -0.0806,  0.0405, -0.0515, -0.1074],\n",
       "                      [-0.0577,  0.0968, -0.1079, -0.0221,  0.0649, -0.0188,  0.1089, -0.0900,\n",
       "                        0.0395, -0.0336,  0.0379, -0.0305],\n",
       "                      [ 0.0586, -0.0984,  0.0257,  0.0876,  0.0610, -0.0712,  0.1092,  0.0407,\n",
       "                       -0.0966, -0.0413,  0.0336, -0.0430],\n",
       "                      [ 0.0245,  0.0636,  0.0148,  0.0342, -0.1235, -0.0018,  0.0383, -0.0513,\n",
       "                       -0.0578, -0.0021, -0.1264, -0.0017],\n",
       "                      [-0.0716, -0.1069, -0.0433,  0.1145,  0.0792,  0.0299,  0.1219,  0.1298,\n",
       "                        0.0633,  0.1185, -0.1101, -0.0961],\n",
       "                      [ 0.1315, -0.0601,  0.1356,  0.0632,  0.1067, -0.0473, -0.0083, -0.0199,\n",
       "                        0.1057,  0.0806,  0.1144, -0.0339],\n",
       "                      [-0.0696, -0.0314,  0.0799, -0.0565,  0.0256, -0.0478, -0.0568, -0.0664,\n",
       "                        0.0116,  0.0243,  0.1263,  0.1321],\n",
       "                      [-0.1284, -0.1348, -0.0321,  0.1017, -0.1294, -0.1274,  0.0307, -0.0299,\n",
       "                       -0.0534,  0.0937,  0.0245,  0.0358],\n",
       "                      [-0.0447,  0.1248, -0.0033, -0.0064, -0.0813,  0.1097, -0.0816, -0.0501,\n",
       "                       -0.0593,  0.1010, -0.0457, -0.0443],\n",
       "                      [ 0.0805, -0.0627,  0.0716,  0.0492, -0.0447, -0.0077,  0.0257, -0.0533,\n",
       "                       -0.0198, -0.0159, -0.1406,  0.0616],\n",
       "                      [-0.1055, -0.1091,  0.0707, -0.0927,  0.0951,  0.0243, -0.0967, -0.0072,\n",
       "                        0.0674,  0.0207, -0.1147, -0.0017],\n",
       "                      [ 0.0397,  0.0379,  0.0069,  0.0821,  0.0522,  0.0772,  0.0705, -0.0362,\n",
       "                        0.0715,  0.0207,  0.0565, -0.0431],\n",
       "                      [ 0.0823,  0.0013, -0.0115,  0.0522, -0.0546,  0.0024,  0.1034, -0.0418,\n",
       "                       -0.0669,  0.0605, -0.0837, -0.1156],\n",
       "                      [ 0.0279,  0.1073,  0.1187,  0.0877, -0.0817,  0.0901,  0.0979,  0.0616,\n",
       "                        0.1066, -0.0643,  0.0398, -0.0659],\n",
       "                      [-0.0117,  0.0061, -0.0654,  0.0081, -0.1248,  0.0778, -0.1064, -0.1123,\n",
       "                        0.1036,  0.0371, -0.0767,  0.0743],\n",
       "                      [ 0.1242,  0.1131,  0.1016, -0.0149, -0.0616,  0.0148,  0.1145,  0.1306,\n",
       "                        0.0228, -0.0889, -0.1156, -0.0351],\n",
       "                      [-0.0508, -0.0186,  0.0026,  0.1147, -0.1235,  0.0452,  0.0466,  0.0054,\n",
       "                       -0.0265, -0.0606,  0.0076,  0.1236],\n",
       "                      [-0.1021,  0.1249, -0.0518, -0.0440,  0.1251,  0.0337, -0.0053,  0.0802,\n",
       "                        0.0060, -0.0889, -0.1011,  0.0709],\n",
       "                      [-0.1122, -0.0431,  0.0056, -0.0424,  0.0979,  0.1115,  0.1083,  0.0506,\n",
       "                        0.0076,  0.0758, -0.0217, -0.0198],\n",
       "                      [ 0.0295, -0.1182, -0.1178, -0.0209,  0.0304,  0.1129,  0.0047, -0.0555,\n",
       "                       -0.1079, -0.1155, -0.0447,  0.0769],\n",
       "                      [-0.0983,  0.1340,  0.1440,  0.0533,  0.0322,  0.0684, -0.1000,  0.0067,\n",
       "                       -0.0914,  0.0481,  0.1373,  0.1131],\n",
       "                      [ 0.0548,  0.0919,  0.0883,  0.1350,  0.0440, -0.0596,  0.0967,  0.0440,\n",
       "                        0.0701,  0.0702, -0.0180,  0.0320],\n",
       "                      [-0.0270,  0.0553, -0.1280,  0.0687,  0.0794, -0.0535, -0.0742,  0.0474,\n",
       "                       -0.0638, -0.0585, -0.0260,  0.0085],\n",
       "                      [-0.0465,  0.0595,  0.0299,  0.1155, -0.0111,  0.0711,  0.1028,  0.0908,\n",
       "                        0.1226,  0.0959,  0.0695, -0.0778],\n",
       "                      [ 0.0262,  0.0528,  0.0042, -0.0958, -0.0772, -0.1009,  0.0625, -0.0528,\n",
       "                        0.0606,  0.0646, -0.1043, -0.0164],\n",
       "                      [ 0.0446,  0.0313, -0.0873,  0.0245,  0.0801,  0.0108, -0.0189, -0.1375,\n",
       "                        0.1064,  0.0785,  0.0213,  0.0592],\n",
       "                      [ 0.1364, -0.0455,  0.0055, -0.0326,  0.0163,  0.1094, -0.0134, -0.0559,\n",
       "                        0.1169,  0.1257,  0.1156, -0.0853],\n",
       "                      [ 0.0225, -0.1152, -0.0602,  0.0509,  0.0042,  0.0430,  0.1024,  0.1018,\n",
       "                        0.0426, -0.0701, -0.0894, -0.0944],\n",
       "                      [-0.0693, -0.1093,  0.0369, -0.1046, -0.0025, -0.0771, -0.1141, -0.0994,\n",
       "                       -0.0680,  0.0594, -0.1011,  0.0757],\n",
       "                      [ 0.0119, -0.0573, -0.0534,  0.0438,  0.1108,  0.0074, -0.0269,  0.0031,\n",
       "                        0.0418, -0.0791, -0.0055, -0.0701],\n",
       "                      [-0.0781,  0.0070, -0.0233,  0.0309,  0.1231,  0.0327,  0.1274,  0.0811,\n",
       "                        0.0353, -0.0169,  0.0751, -0.0068],\n",
       "                      [-0.0748, -0.0121,  0.0694,  0.0652, -0.1017, -0.0483, -0.0043,  0.0320,\n",
       "                       -0.0443,  0.0344, -0.1121,  0.1186],\n",
       "                      [ 0.0405,  0.0667,  0.0230,  0.0116,  0.0028, -0.0641,  0.0083, -0.1379,\n",
       "                       -0.0639,  0.0268, -0.0450, -0.1260],\n",
       "                      [-0.0888,  0.0602, -0.0246, -0.1177,  0.1222, -0.0414, -0.0091, -0.0185,\n",
       "                       -0.0681, -0.0081,  0.0894,  0.0008],\n",
       "                      [ 0.0911,  0.0447, -0.0549,  0.0616, -0.0697,  0.0168, -0.0218, -0.0275,\n",
       "                        0.0463,  0.0392, -0.0290,  0.0523],\n",
       "                      [ 0.0283, -0.0470, -0.0212, -0.1085,  0.0876,  0.1088,  0.0700, -0.1162,\n",
       "                        0.0781, -0.0223, -0.0269,  0.0286],\n",
       "                      [-0.0619, -0.1170,  0.0344, -0.0492,  0.0599, -0.0591, -0.0088, -0.0764,\n",
       "                       -0.0394,  0.1056, -0.1350,  0.0398],\n",
       "                      [ 0.1257,  0.0406, -0.0769, -0.0303, -0.0176,  0.0653,  0.1240,  0.0734,\n",
       "                       -0.0835, -0.0663, -0.0670,  0.1053],\n",
       "                      [ 0.0102,  0.1027,  0.0688, -0.0489,  0.0766,  0.0797,  0.1110, -0.0491,\n",
       "                       -0.0886,  0.0445,  0.0910,  0.0587],\n",
       "                      [ 0.0088,  0.0377,  0.1153, -0.0165,  0.0011,  0.0126,  0.0346, -0.1181,\n",
       "                       -0.1005, -0.0908, -0.0645,  0.0872],\n",
       "                      [-0.0315,  0.0510, -0.0377, -0.0964,  0.1214, -0.0232, -0.0156,  0.0303,\n",
       "                        0.1301,  0.1255,  0.0712,  0.0427],\n",
       "                      [-0.0051, -0.1293, -0.1169,  0.0180, -0.0417,  0.0315,  0.0464,  0.0240,\n",
       "                       -0.0760, -0.0535, -0.0914, -0.0602],\n",
       "                      [-0.0494, -0.0095, -0.1169,  0.0343,  0.1220,  0.0127,  0.0325,  0.0537,\n",
       "                        0.1020, -0.1094,  0.1239,  0.1186],\n",
       "                      [ 0.0900, -0.0406,  0.0803, -0.1195, -0.0207,  0.0622,  0.0845, -0.0926,\n",
       "                       -0.1003, -0.0596, -0.1150, -0.0304],\n",
       "                      [-0.0429,  0.0619, -0.0245, -0.0688,  0.1213,  0.0549,  0.1073,  0.1006,\n",
       "                        0.0710,  0.0885, -0.0562, -0.0670]])),\n",
       "             ('rnn.weight_hh_l0',\n",
       "              tensor([[-0.0548,  0.0824, -0.0594,  ..., -0.0356,  0.0630,  0.0453],\n",
       "                      [-0.0090,  0.0279, -0.0901,  ...,  0.0478, -0.0299,  0.1145],\n",
       "                      [-0.1207, -0.0395, -0.0807,  ...,  0.0516, -0.0479,  0.0996],\n",
       "                      ...,\n",
       "                      [ 0.0434,  0.1001,  0.0066,  ...,  0.1169,  0.0210, -0.1015],\n",
       "                      [-0.0601,  0.1220,  0.0033,  ..., -0.0541,  0.0041, -0.0217],\n",
       "                      [ 0.1150,  0.0191,  0.0398,  ...,  0.0566,  0.0986, -0.1250]])),\n",
       "             ('rnn.bias_ih_l0',\n",
       "              tensor([-0.0947, -0.0043,  0.0796, -0.1191,  0.1025, -0.1243, -0.0743,  0.0738,\n",
       "                       0.0878,  0.0968, -0.0136,  0.0458, -0.1252, -0.0688, -0.0653,  0.0130,\n",
       "                      -0.0223, -0.1202,  0.0023,  0.0546, -0.1164,  0.1243,  0.0659,  0.1120,\n",
       "                      -0.0796, -0.0045,  0.0022, -0.0933,  0.1237, -0.1050,  0.1255,  0.1047,\n",
       "                      -0.0771,  0.0438,  0.1136, -0.1118, -0.1126, -0.0759,  0.0248,  0.0063,\n",
       "                      -0.0212, -0.0182, -0.1023, -0.0822, -0.0512,  0.0168, -0.0425, -0.1202,\n",
       "                       0.1004,  0.0598, -0.0178, -0.1201, -0.0177, -0.1030,  0.0580,  0.0777,\n",
       "                       0.0132,  0.1025,  0.0820,  0.0713,  0.1036,  0.1245, -0.0492,  0.0760])),\n",
       "             ('rnn.bias_hh_l0',\n",
       "              tensor([ 1.0019e-01,  7.5546e-02,  9.0733e-02, -5.4245e-02,  2.2291e-02,\n",
       "                       4.0567e-02, -2.3370e-02, -7.0761e-02,  7.0593e-02,  9.1158e-02,\n",
       "                       7.5993e-02, -6.4212e-02,  5.1422e-02,  2.2533e-02,  5.7764e-03,\n",
       "                      -1.0738e-02, -3.9435e-05, -4.8078e-03,  1.0452e-01,  6.7679e-02,\n",
       "                       4.8470e-02, -4.3823e-04,  1.0796e-01, -4.5790e-02, -2.8766e-02,\n",
       "                       1.0069e-01, -8.1953e-02, -1.2172e-01,  5.6725e-03, -1.2532e-01,\n",
       "                       3.1903e-02, -8.8963e-02, -5.5823e-02, -1.1708e-01,  6.0864e-02,\n",
       "                      -6.8974e-02, -6.4521e-02, -5.5127e-03,  3.2819e-02, -8.6802e-02,\n",
       "                      -1.1497e-01,  6.2278e-02,  1.0604e-01, -6.0490e-02, -7.6752e-02,\n",
       "                      -9.2173e-02,  8.6021e-02, -6.8543e-02, -3.7464e-02,  7.7511e-02,\n",
       "                       7.2472e-02,  1.0143e-02,  3.8321e-02,  6.2811e-02,  6.3710e-02,\n",
       "                       6.1205e-02,  2.3231e-02,  6.3172e-02,  9.0963e-02,  1.0709e-01,\n",
       "                       2.2626e-03,  4.7227e-02,  1.1054e-01, -8.7372e-02])),\n",
       "             ('rnn.weight_ih_l1',\n",
       "              tensor([[ 0.0518, -0.0683, -0.0367,  ...,  0.1247,  0.0472, -0.0582],\n",
       "                      [ 0.1045, -0.0718, -0.0536,  ...,  0.0095, -0.0674,  0.0643],\n",
       "                      [-0.1158, -0.1084,  0.0603,  ...,  0.0174, -0.0289, -0.1192],\n",
       "                      ...,\n",
       "                      [ 0.1020, -0.0006, -0.0500,  ...,  0.0145, -0.0958, -0.0928],\n",
       "                      [-0.1117, -0.0270,  0.0479,  ..., -0.0026, -0.0897, -0.0556],\n",
       "                      [-0.0296, -0.0847, -0.0638,  ...,  0.0266,  0.0451, -0.0961]])),\n",
       "             ('rnn.weight_hh_l1',\n",
       "              tensor([[-0.0059, -0.0276,  0.0786,  ...,  0.0278, -0.0801,  0.0624],\n",
       "                      [-0.0425, -0.1242, -0.1224,  ..., -0.1027, -0.0012, -0.0553],\n",
       "                      [ 0.0012, -0.0991, -0.0369,  ...,  0.0586,  0.0646,  0.0875],\n",
       "                      ...,\n",
       "                      [-0.1034,  0.0244, -0.0605,  ...,  0.0498,  0.0939, -0.0018],\n",
       "                      [-0.0126, -0.0780,  0.0083,  ..., -0.0170, -0.0471,  0.0985],\n",
       "                      [ 0.0545, -0.0029,  0.0533,  ...,  0.1132, -0.0191, -0.0727]])),\n",
       "             ('rnn.bias_ih_l1',\n",
       "              tensor([-0.0543,  0.0961,  0.1274, -0.0702,  0.1257,  0.0671, -0.0177,  0.1003,\n",
       "                      -0.0894, -0.1081,  0.0420,  0.0060,  0.0436,  0.0645,  0.0567, -0.0541,\n",
       "                       0.0435, -0.0213, -0.0308,  0.0580, -0.0527,  0.0545, -0.0792,  0.0428,\n",
       "                       0.1097, -0.0320, -0.0299, -0.1044,  0.0370,  0.1114,  0.1261,  0.0066,\n",
       "                      -0.0829,  0.0803, -0.1151, -0.1213, -0.1121, -0.0625,  0.0458,  0.0635,\n",
       "                      -0.1166, -0.0578,  0.1029, -0.0716,  0.0218,  0.0653,  0.0326, -0.0878,\n",
       "                      -0.0370, -0.0365, -0.0336,  0.0838, -0.1223,  0.0509,  0.0141, -0.0733,\n",
       "                      -0.0338, -0.0726,  0.0445,  0.0868,  0.0330,  0.0316,  0.0363,  0.0650])),\n",
       "             ('rnn.bias_hh_l1',\n",
       "              tensor([-0.0268, -0.0822,  0.1002,  0.0658, -0.0942, -0.0818,  0.1064, -0.0458,\n",
       "                      -0.0060,  0.1092, -0.0943,  0.0800,  0.0894,  0.0726, -0.0291,  0.0235,\n",
       "                      -0.0068,  0.0095,  0.0830, -0.0946, -0.0928,  0.0999,  0.1146, -0.0789,\n",
       "                       0.0398, -0.0749,  0.0096,  0.0126, -0.0312,  0.0296,  0.0199, -0.0136,\n",
       "                       0.0722, -0.0370,  0.0281, -0.0954, -0.1156,  0.0794, -0.0253,  0.0926,\n",
       "                      -0.0129,  0.0435, -0.0702, -0.0198, -0.0420,  0.0665, -0.1092,  0.0462,\n",
       "                      -0.0226,  0.0611, -0.1071,  0.1072,  0.0302,  0.0056, -0.0569, -0.0005,\n",
       "                       0.0485,  0.0841, -0.0327, -0.0207,  0.0651,  0.0191, -0.1185,  0.1190])),\n",
       "             ('fc.weight',\n",
       "              tensor([[ 0.0543, -0.2105,  0.0458,  0.0020,  0.1161,  0.1201,  0.0909,  0.0237,\n",
       "                       -0.1358,  0.1086,  0.0532, -0.0997,  0.0707,  0.0201,  0.0808, -0.0718,\n",
       "                        0.0992, -0.0152,  0.0173, -0.0822,  0.0325, -0.1389,  0.0794,  0.0307,\n",
       "                       -0.0898, -0.1373,  0.1639,  0.0625,  0.0376, -0.1753,  0.1306,  0.0589,\n",
       "                       -0.1667,  0.0422,  0.1335,  0.0852, -0.0809, -0.0261,  0.0879, -0.0117,\n",
       "                        0.1163, -0.0302,  0.0209, -0.0606, -0.0223,  0.1529,  0.1553, -0.0178,\n",
       "                       -0.0683, -0.0318, -0.1856, -0.0105, -0.1478, -0.0393,  0.0299, -0.0386,\n",
       "                        0.0110, -0.1711, -0.0859,  0.1131,  0.0019, -0.1415, -0.0458, -0.0610]])),\n",
       "             ('fc.bias', tensor([-0.0198]))])"
      ]
     },
     "execution_count": 157,
     "metadata": {},
     "output_type": "execute_result"
    }
   ],
   "source": [
    "model.state_dict()"
   ]
  },
  {
   "cell_type": "code",
   "execution_count": 158,
   "id": "c3d58622",
   "metadata": {},
   "outputs": [],
   "source": [
    "import os\n",
    "os.makedirs(\"model\", exist_ok=True) # membuat folder model"
   ]
  },
  {
   "cell_type": "markdown",
   "id": "b66d7a91",
   "metadata": {},
   "source": [
    "### Quick Summary\n",
    "- `os` adalah sebuah library Python yang digunakan untuk berinteraksi dengan sistem operasi yang digunakan pada komputer. Library ini menyediakan fungsi dan method untuk mengakses direktori, mengelola file, menjalankan perintah shell, dan sebagainya.\n",
    "- `os.makedirs` adalah sebuah fungsi dari library Python os yang digunakan untuk membuat direktori secara rekursif. Artinya, jika direktori yang ingin dibuat memiliki direktori induk yang belum ada, maka fungsi os.makedirs akan membuat direktori induk tersebut terlebih dahulu sebelum membuat direktori yang diinginkan.\n",
    "- `torch.save` adalah sebuah fungsi dari library PyTorch yang digunakan untuk menyimpan model machine learning yang telah dilatih ke dalam sebuah file. Fungsi ini berguna untuk menyimpan hasil pelatihan model sehingga kita dapat menggunakannya kembali tanpa perlu melakukan pelatihan ulang.\n",
    "- `config` adalah kependekan dari konfigurasi, yang pada dasarnya berarti pengaturan atau setting dalam suatu sistem. Dalam konteks pengembangan perangkat lunak, config sering digunakan untuk menyimpan pengaturan yang digunakan dalam suatu aplikasi atau sistem."
   ]
  },
  {
   "cell_type": "code",
   "execution_count": 159,
   "id": "43cd8313",
   "metadata": {},
   "outputs": [],
   "source": [
    "torch.save(model.state_dict(), \"model/rnn_weight.pth\")"
   ]
  },
  {
   "cell_type": "markdown",
   "id": "b3a1ed48",
   "metadata": {},
   "source": [
    "Selain weight, informasi yang biasa disimpan adalah configuration dari model kita. Sama seperti sebelumnya kita bisa menggunakan `torch.save()` untuk variable `config`."
   ]
  },
  {
   "cell_type": "code",
   "execution_count": 160,
   "id": "eda4eb25",
   "metadata": {},
   "outputs": [],
   "source": [
    "torch.save(config, \"model/rnn_config.pth\")"
   ]
  },
  {
   "cell_type": "code",
   "execution_count": 161,
   "id": "95a7e8ba",
   "metadata": {},
   "outputs": [
    {
     "data": {
      "text/plain": [
       "{'input_size': 12, 'output_size': 1, 'hidden_size': 64, 'num_layers': 2}"
      ]
     },
     "execution_count": 161,
     "metadata": {},
     "output_type": "execute_result"
    }
   ],
   "source": [
    "config"
   ]
  },
  {
   "cell_type": "markdown",
   "id": "17ac4db7",
   "metadata": {},
   "source": [
    "#### Load Model\n",
    "\n",
    "Pada bagian ini kita akan melakukan load model yang sudah disimpan tadi. Sebagai catatan, load model dapat dilakukan asalkan arsitektur model kita buat serupa."
   ]
  },
  {
   "cell_type": "code",
   "execution_count": 162,
   "id": "81b58a59",
   "metadata": {},
   "outputs": [],
   "source": [
    "# ambil arsitektur yang telah dibuat\n",
    "class RNN_Load(nn.Module):\n",
    "    def __init__(self, input_size, output_size, hidden_size, num_layers):\n",
    "        super().__init__()\n",
    "        self.rnn = nn.RNN(\n",
    "            input_size = input_size,\n",
    "            hidden_size = hidden_size,\n",
    "            num_layers = num_layers\n",
    "        ) # RNN block\n",
    "        self.fc = nn.Linear(\n",
    "            in_features = hidden_size,\n",
    "            out_features = output_size\n",
    "        ) # fully connected layer\n",
    "        \n",
    "    def forward(self, x, hidden): # langkah feedforward\n",
    "        x, hidden = self.rnn(x, hidden)\n",
    "        x = self.fc(x)\n",
    "        \n",
    "        return x, hidden"
   ]
  },
  {
   "cell_type": "markdown",
   "id": "36e80ab8",
   "metadata": {},
   "source": [
    "Load configuration serta weight dari file dapat menggunakan `torch.load()` lalu kita simpan ke dalam sebuah variable."
   ]
  },
  {
   "cell_type": "code",
   "execution_count": 163,
   "id": "1fa5ab38",
   "metadata": {},
   "outputs": [],
   "source": [
    "config_load = torch.load(\"model/rnn_config.pth\")\n",
    "weight_load = torch.load(\"model/rnn_weight.pth\")"
   ]
  },
  {
   "cell_type": "code",
   "execution_count": 164,
   "id": "5778d9fb",
   "metadata": {},
   "outputs": [
    {
     "data": {
      "text/plain": [
       "{'input_size': 12, 'output_size': 1, 'hidden_size': 64, 'num_layers': 2}"
      ]
     },
     "execution_count": 164,
     "metadata": {},
     "output_type": "execute_result"
    }
   ],
   "source": [
    "config_load"
   ]
  },
  {
   "cell_type": "markdown",
   "id": "53bb0652",
   "metadata": {},
   "source": [
    "Load configuration kita masukkan secara manual, yaitu dengan mengambil value pada dictionary di object `weight_load`. Sementara untuk load weight, kita dapat menggunakan method `.load_state_dict()` pada model kita."
   ]
  },
  {
   "cell_type": "code",
   "execution_count": 165,
   "id": "51d4b5de",
   "metadata": {},
   "outputs": [],
   "source": [
    "model_2 = RNN_Load(\n",
    "    input_size = config_load[\"input_size\"], \n",
    "    output_size = config_load[\"output_size\"], \n",
    "    hidden_size = config_load[\"hidden_size\"], \n",
    "    num_layers = config_load[\"num_layers\"]    \n",
    ")"
   ]
  },
  {
   "cell_type": "code",
   "execution_count": 166,
   "id": "2d6ad9a1",
   "metadata": {},
   "outputs": [
    {
     "data": {
      "text/plain": [
       "<All keys matched successfully>"
      ]
     },
     "execution_count": 166,
     "metadata": {},
     "output_type": "execute_result"
    }
   ],
   "source": [
    "model_2.load_state_dict(weight_load)"
   ]
  },
  {
   "cell_type": "code",
   "execution_count": 167,
   "id": "d3a30728",
   "metadata": {},
   "outputs": [],
   "source": [
    "preds, targets = [], []\n",
    "hidden = None\n",
    "last_inputs = None\n",
    "\n",
    "month = 120 # jumlah bulan yang akan diprediksi\n",
    "\n",
    "with torch.no_grad():\n",
    "    model_2.eval() \n",
    "    for inputs, target in test_loader: \n",
    "        output, hidden = model_2(inputs, hidden)\n",
    "        preds += output.flatten().tolist()\n",
    "        targets += target.flatten().tolist()\n",
    "        last_inputs = inputs\n",
    "\n",
    "    n_forecast = int(np.ceil(month/len(last_inputs))) # karena menggunakan minibatch, maka jumlah iterasi menyesuaikan\n",
    "\n",
    "    for i in range(int(n_forecast)):\n",
    "        # take last prediction result for new input\n",
    "        pred_inputs = (last_inputs[-1][1:]).tolist()\n",
    "        pred_inputs.append(preds[-1])\n",
    "        \n",
    "        # create new input format for models\n",
    "        forecast_inputs = last_inputs[1:].tolist()\n",
    "        forecast_inputs.append(pred_inputs)\n",
    "        forecast_inputs = torch.tensor(forecast_inputs)\n",
    "        \n",
    "        # forecast and saving the result\n",
    "        output, hidden = model_2(forecast_inputs, hidden)\n",
    "        last_inputs = forecast_inputs\n",
    "        preds += output.flatten().tolist()\n",
    "\n",
    "# inverse the result since we use scaling on our data\n",
    "preds = scaler.inverse_transform(pd.DataFrame(preds))\n",
    "targets = scaler.inverse_transform(pd.DataFrame(targets))"
   ]
  },
  {
   "cell_type": "code",
   "execution_count": 101,
   "id": "a4966a8b",
   "metadata": {},
   "outputs": [
    {
     "data": {
      "image/png": "[encoded data removed]",
      "text/plain": [
       "<Figure size 1500x500 with 1 Axes>"
      ]
     },
     "metadata": {},
     "output_type": "display_data"
    }
   ],
   "source": [
    "# Plot the predicted and actual values\n",
    "plt.figure(figsize=(15,5))\n",
    "plt.plot(targets, label='Actual')\n",
    "plt.plot(preds, label='Predicted')\n",
    "\n",
    "plt.axvline(len(test_dataset), color='k', linestyle=\"--\", linewidth=1)\n",
    "plt.axvline(len(test_dataset) + n_forecast*len(last_inputs), color='k', linestyle=\"--\", linewidth=1)\n",
    "\n",
    "plt.legend()\n",
    "plt.show()"
   ]
  }
 ],
 "metadata": {
  "kernelspec": {
   "display_name": "dss_tsfeb",
   "language": "python",
   "name": "dss_tsfeb"
  },
  "language_info": {
   "codemirror_mode": {
    "name": "ipython",
    "version": 3
   },
   "file_extension": ".py",
   "mimetype": "text/x-python",
   "name": "python",
   "nbconvert_exporter": "python",
   "pygments_lexer": "ipython3",
   "version": "3.10.9"
  }
 },
 "nbformat": 4,
 "nbformat_minor": 5
}
